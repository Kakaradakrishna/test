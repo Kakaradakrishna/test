{
 "cells": [
  {
   "cell_type": "markdown",
   "id": "7d33e40f",
   "metadata": {},
   "source": [
    "### Importing libraries:-"
   ]
  },
  {
   "cell_type": "code",
   "execution_count": 1,
   "id": "e0b34d62",
   "metadata": {},
   "outputs": [],
   "source": [
    "import pandas as pd\n",
    "import numpy as np\n",
    "import matplotlib.pyplot as plt\n",
    "import seaborn as sns\n",
    "import warnings \n",
    "warnings.filterwarnings(\"ignore\")"
   ]
  },
  {
   "cell_type": "markdown",
   "id": "a83fcc5d",
   "metadata": {},
   "source": [
    "### Importing dataset"
   ]
  },
  {
   "cell_type": "code",
   "execution_count": 2,
   "id": "7f811a53",
   "metadata": {},
   "outputs": [],
   "source": [
    "#for reading the data \n",
    "data=pd.read_csv(r\"C:\\Users\\appu\\OneDrive\\Desktop\\DATA SCIENCE wd R\\R codes\\R datasets\\Churn_Modelling.csv\")"
   ]
  },
  {
   "cell_type": "code",
   "execution_count": 3,
   "id": "2ce38b41",
   "metadata": {},
   "outputs": [
    {
     "data": {
      "text/html": [
       "<div>\n",
       "<style scoped>\n",
       "    .dataframe tbody tr th:only-of-type {\n",
       "        vertical-align: middle;\n",
       "    }\n",
       "\n",
       "    .dataframe tbody tr th {\n",
       "        vertical-align: top;\n",
       "    }\n",
       "\n",
       "    .dataframe thead th {\n",
       "        text-align: right;\n",
       "    }\n",
       "</style>\n",
       "<table border=\"1\" class=\"dataframe\">\n",
       "  <thead>\n",
       "    <tr style=\"text-align: right;\">\n",
       "      <th></th>\n",
       "      <th>RowNumber</th>\n",
       "      <th>CustomerId</th>\n",
       "      <th>Surname</th>\n",
       "      <th>CreditScore</th>\n",
       "      <th>Geography</th>\n",
       "      <th>Gender</th>\n",
       "      <th>Age</th>\n",
       "      <th>Tenure</th>\n",
       "      <th>Balance</th>\n",
       "      <th>NumOfProducts</th>\n",
       "      <th>HasCrCard</th>\n",
       "      <th>IsActiveMember</th>\n",
       "      <th>EstimatedSalary</th>\n",
       "      <th>Exited</th>\n",
       "    </tr>\n",
       "  </thead>\n",
       "  <tbody>\n",
       "    <tr>\n",
       "      <th>0</th>\n",
       "      <td>1</td>\n",
       "      <td>15634602</td>\n",
       "      <td>Hargrave</td>\n",
       "      <td>619</td>\n",
       "      <td>France</td>\n",
       "      <td>Female</td>\n",
       "      <td>42</td>\n",
       "      <td>2</td>\n",
       "      <td>0.00</td>\n",
       "      <td>1</td>\n",
       "      <td>1</td>\n",
       "      <td>1</td>\n",
       "      <td>101348.88</td>\n",
       "      <td>1</td>\n",
       "    </tr>\n",
       "    <tr>\n",
       "      <th>1</th>\n",
       "      <td>2</td>\n",
       "      <td>15647311</td>\n",
       "      <td>Hill</td>\n",
       "      <td>608</td>\n",
       "      <td>Spain</td>\n",
       "      <td>Female</td>\n",
       "      <td>41</td>\n",
       "      <td>1</td>\n",
       "      <td>83807.86</td>\n",
       "      <td>1</td>\n",
       "      <td>0</td>\n",
       "      <td>1</td>\n",
       "      <td>112542.58</td>\n",
       "      <td>0</td>\n",
       "    </tr>\n",
       "    <tr>\n",
       "      <th>2</th>\n",
       "      <td>3</td>\n",
       "      <td>15619304</td>\n",
       "      <td>Onio</td>\n",
       "      <td>502</td>\n",
       "      <td>France</td>\n",
       "      <td>Female</td>\n",
       "      <td>42</td>\n",
       "      <td>8</td>\n",
       "      <td>159660.80</td>\n",
       "      <td>3</td>\n",
       "      <td>1</td>\n",
       "      <td>0</td>\n",
       "      <td>113931.57</td>\n",
       "      <td>1</td>\n",
       "    </tr>\n",
       "    <tr>\n",
       "      <th>3</th>\n",
       "      <td>4</td>\n",
       "      <td>15701354</td>\n",
       "      <td>Boni</td>\n",
       "      <td>699</td>\n",
       "      <td>France</td>\n",
       "      <td>Female</td>\n",
       "      <td>39</td>\n",
       "      <td>1</td>\n",
       "      <td>0.00</td>\n",
       "      <td>2</td>\n",
       "      <td>0</td>\n",
       "      <td>0</td>\n",
       "      <td>93826.63</td>\n",
       "      <td>0</td>\n",
       "    </tr>\n",
       "    <tr>\n",
       "      <th>4</th>\n",
       "      <td>5</td>\n",
       "      <td>15737888</td>\n",
       "      <td>Mitchell</td>\n",
       "      <td>850</td>\n",
       "      <td>Spain</td>\n",
       "      <td>Female</td>\n",
       "      <td>43</td>\n",
       "      <td>2</td>\n",
       "      <td>125510.82</td>\n",
       "      <td>1</td>\n",
       "      <td>1</td>\n",
       "      <td>1</td>\n",
       "      <td>79084.10</td>\n",
       "      <td>0</td>\n",
       "    </tr>\n",
       "    <tr>\n",
       "      <th>...</th>\n",
       "      <td>...</td>\n",
       "      <td>...</td>\n",
       "      <td>...</td>\n",
       "      <td>...</td>\n",
       "      <td>...</td>\n",
       "      <td>...</td>\n",
       "      <td>...</td>\n",
       "      <td>...</td>\n",
       "      <td>...</td>\n",
       "      <td>...</td>\n",
       "      <td>...</td>\n",
       "      <td>...</td>\n",
       "      <td>...</td>\n",
       "      <td>...</td>\n",
       "    </tr>\n",
       "    <tr>\n",
       "      <th>9995</th>\n",
       "      <td>9996</td>\n",
       "      <td>15606229</td>\n",
       "      <td>Obijiaku</td>\n",
       "      <td>771</td>\n",
       "      <td>France</td>\n",
       "      <td>Male</td>\n",
       "      <td>39</td>\n",
       "      <td>5</td>\n",
       "      <td>0.00</td>\n",
       "      <td>2</td>\n",
       "      <td>1</td>\n",
       "      <td>0</td>\n",
       "      <td>96270.64</td>\n",
       "      <td>0</td>\n",
       "    </tr>\n",
       "    <tr>\n",
       "      <th>9996</th>\n",
       "      <td>9997</td>\n",
       "      <td>15569892</td>\n",
       "      <td>Johnstone</td>\n",
       "      <td>516</td>\n",
       "      <td>France</td>\n",
       "      <td>Male</td>\n",
       "      <td>35</td>\n",
       "      <td>10</td>\n",
       "      <td>57369.61</td>\n",
       "      <td>1</td>\n",
       "      <td>1</td>\n",
       "      <td>1</td>\n",
       "      <td>101699.77</td>\n",
       "      <td>0</td>\n",
       "    </tr>\n",
       "    <tr>\n",
       "      <th>9997</th>\n",
       "      <td>9998</td>\n",
       "      <td>15584532</td>\n",
       "      <td>Liu</td>\n",
       "      <td>709</td>\n",
       "      <td>France</td>\n",
       "      <td>Female</td>\n",
       "      <td>36</td>\n",
       "      <td>7</td>\n",
       "      <td>0.00</td>\n",
       "      <td>1</td>\n",
       "      <td>0</td>\n",
       "      <td>1</td>\n",
       "      <td>42085.58</td>\n",
       "      <td>1</td>\n",
       "    </tr>\n",
       "    <tr>\n",
       "      <th>9998</th>\n",
       "      <td>9999</td>\n",
       "      <td>15682355</td>\n",
       "      <td>Sabbatini</td>\n",
       "      <td>772</td>\n",
       "      <td>Germany</td>\n",
       "      <td>Male</td>\n",
       "      <td>42</td>\n",
       "      <td>3</td>\n",
       "      <td>75075.31</td>\n",
       "      <td>2</td>\n",
       "      <td>1</td>\n",
       "      <td>0</td>\n",
       "      <td>92888.52</td>\n",
       "      <td>1</td>\n",
       "    </tr>\n",
       "    <tr>\n",
       "      <th>9999</th>\n",
       "      <td>10000</td>\n",
       "      <td>15628319</td>\n",
       "      <td>Walker</td>\n",
       "      <td>792</td>\n",
       "      <td>France</td>\n",
       "      <td>Female</td>\n",
       "      <td>28</td>\n",
       "      <td>4</td>\n",
       "      <td>130142.79</td>\n",
       "      <td>1</td>\n",
       "      <td>1</td>\n",
       "      <td>0</td>\n",
       "      <td>38190.78</td>\n",
       "      <td>0</td>\n",
       "    </tr>\n",
       "  </tbody>\n",
       "</table>\n",
       "<p>10000 rows × 14 columns</p>\n",
       "</div>"
      ],
      "text/plain": [
       "      RowNumber  CustomerId    Surname  CreditScore Geography  Gender  Age  \\\n",
       "0             1    15634602   Hargrave          619    France  Female   42   \n",
       "1             2    15647311       Hill          608     Spain  Female   41   \n",
       "2             3    15619304       Onio          502    France  Female   42   \n",
       "3             4    15701354       Boni          699    France  Female   39   \n",
       "4             5    15737888   Mitchell          850     Spain  Female   43   \n",
       "...         ...         ...        ...          ...       ...     ...  ...   \n",
       "9995       9996    15606229   Obijiaku          771    France    Male   39   \n",
       "9996       9997    15569892  Johnstone          516    France    Male   35   \n",
       "9997       9998    15584532        Liu          709    France  Female   36   \n",
       "9998       9999    15682355  Sabbatini          772   Germany    Male   42   \n",
       "9999      10000    15628319     Walker          792    France  Female   28   \n",
       "\n",
       "      Tenure    Balance  NumOfProducts  HasCrCard  IsActiveMember  \\\n",
       "0          2       0.00              1          1               1   \n",
       "1          1   83807.86              1          0               1   \n",
       "2          8  159660.80              3          1               0   \n",
       "3          1       0.00              2          0               0   \n",
       "4          2  125510.82              1          1               1   \n",
       "...      ...        ...            ...        ...             ...   \n",
       "9995       5       0.00              2          1               0   \n",
       "9996      10   57369.61              1          1               1   \n",
       "9997       7       0.00              1          0               1   \n",
       "9998       3   75075.31              2          1               0   \n",
       "9999       4  130142.79              1          1               0   \n",
       "\n",
       "      EstimatedSalary  Exited  \n",
       "0           101348.88       1  \n",
       "1           112542.58       0  \n",
       "2           113931.57       1  \n",
       "3            93826.63       0  \n",
       "4            79084.10       0  \n",
       "...               ...     ...  \n",
       "9995         96270.64       0  \n",
       "9996        101699.77       0  \n",
       "9997         42085.58       1  \n",
       "9998         92888.52       1  \n",
       "9999         38190.78       0  \n",
       "\n",
       "[10000 rows x 14 columns]"
      ]
     },
     "execution_count": 3,
     "metadata": {},
     "output_type": "execute_result"
    }
   ],
   "source": [
    "df=data.copy()\n",
    "df"
   ]
  },
  {
   "cell_type": "code",
   "execution_count": 4,
   "id": "81070f89",
   "metadata": {},
   "outputs": [],
   "source": [
    "#removing un-necessary columns\n",
    "df.drop([\"RowNumber\", \"CustomerId\",\"Surname\"], axis = 1, inplace = True)"
   ]
  },
  {
   "cell_type": "markdown",
   "id": "b5624270",
   "metadata": {},
   "source": [
    "## Meta Data:-"
   ]
  },
  {
   "cell_type": "code",
   "execution_count": 5,
   "id": "4f0d503b",
   "metadata": {},
   "outputs": [
    {
     "name": "stdout",
     "output_type": "stream",
     "text": [
      "<class 'pandas.core.frame.DataFrame'>\n",
      "RangeIndex: 10000 entries, 0 to 9999\n",
      "Data columns (total 11 columns):\n",
      " #   Column           Non-Null Count  Dtype  \n",
      "---  ------           --------------  -----  \n",
      " 0   CreditScore      10000 non-null  int64  \n",
      " 1   Geography        10000 non-null  object \n",
      " 2   Gender           10000 non-null  object \n",
      " 3   Age              10000 non-null  int64  \n",
      " 4   Tenure           10000 non-null  int64  \n",
      " 5   Balance          10000 non-null  float64\n",
      " 6   NumOfProducts    10000 non-null  int64  \n",
      " 7   HasCrCard        10000 non-null  int64  \n",
      " 8   IsActiveMember   10000 non-null  int64  \n",
      " 9   EstimatedSalary  10000 non-null  float64\n",
      " 10  Exited           10000 non-null  int64  \n",
      "dtypes: float64(2), int64(7), object(2)\n",
      "memory usage: 859.5+ KB\n"
     ]
    }
   ],
   "source": [
    "df.info()"
   ]
  },
  {
   "cell_type": "raw",
   "id": "4681592a",
   "metadata": {},
   "source": [
    "#creditscore     A credit score is a statistical number that evaluates a consumer's creditworthiness and is based on credit history\n",
    "                 Input\n",
    "                 Continuous\n",
    "                 \n",
    "#geography       A geographer tries to understand the world and the things that are in it, how they started and how they have changed.\n",
    "                 Input\n",
    "                 Categorical\n",
    "                 \n",
    "#gender          Gender of customer\n",
    "                 Input\n",
    "                 Categorical\n",
    "                 \n",
    "#age             Age of the customer\n",
    "                 Input\n",
    "                 Continuous\n",
    "                 \n",
    "#Tenure         the length of time workers have been in their current job.\n",
    "                 Input\n",
    "                 Continuous\n",
    "                 \n",
    "#Balnce          Money left in bank account.\n",
    "                 Input\n",
    "                 Continuous\n",
    "                 \n",
    "#Numofproducts   Number of products\n",
    "                 Input\n",
    "                 Categorical\n",
    "                 \n",
    "#HasCrCard       Customer credit card\n",
    "                 Input\n",
    "                 Categorical\n",
    "                 \n",
    "#isactivemember  Customer active or not\n",
    "                 Input\n",
    "                 Categorical\n",
    "                 \n",
    "#Estimatedsalary Customer estimated salary\n",
    "                 Input\n",
    "                 Continuous\n",
    "                 \n",
    "#Exite           Customer leaving in the bank or not\n",
    "                 Output\n",
    "                 Categorical"
   ]
  },
  {
   "cell_type": "markdown",
   "id": "3d0b068b",
   "metadata": {},
   "source": [
    "## EDA:-"
   ]
  },
  {
   "cell_type": "markdown",
   "id": "c59e5186",
   "metadata": {},
   "source": [
    "### univariate analysis:-"
   ]
  },
  {
   "cell_type": "code",
   "execution_count": 6,
   "id": "89a9d355",
   "metadata": {},
   "outputs": [
    {
     "data": {
      "image/png": "[encoded data removed]",
      "text/plain": [
       "<Figure size 432x288 with 1 Axes>"
      ]
     },
     "metadata": {},
     "output_type": "display_data"
    }
   ],
   "source": [
    "#credit score\n",
    "sns.set_style('whitegrid')\n",
    "plt.hist(df['CreditScore'],color='lightblue')\n",
    "plt.show()"
   ]
  },
  {
   "cell_type": "markdown",
   "id": "8a518c6b",
   "metadata": {},
   "source": [
    "##### most of the people have credit score between 600-700"
   ]
  },
  {
   "cell_type": "code",
   "execution_count": 7,
   "id": "23989fc3",
   "metadata": {},
   "outputs": [
    {
     "data": {
      "image/png": "[encoded data removed]",
      "text/plain": [
       "<Figure size 432x288 with 1 Axes>"
      ]
     },
     "metadata": {},
     "output_type": "display_data"
    }
   ],
   "source": [
    "#geography\n",
    "sns.set_style('whitegrid')\n",
    "sns.countplot(x='Geography',data=df,palette='mako')\n",
    "plt.show()"
   ]
  },
  {
   "cell_type": "markdown",
   "id": "49bec240",
   "metadata": {},
   "source": [
    "##### most of the customers are from France"
   ]
  },
  {
   "cell_type": "code",
   "execution_count": 8,
   "id": "e7a73380",
   "metadata": {},
   "outputs": [
    {
     "data": {
      "image/png": "[encoded data removed]",
      "text/plain": [
       "<Figure size 432x288 with 1 Axes>"
      ]
     },
     "metadata": {},
     "output_type": "display_data"
    }
   ],
   "source": [
    "#gender\n",
    "sns.set_style('whitegrid')\n",
    "sns.countplot(x='Gender',data=df,palette='mako')\n",
    "plt.show()"
   ]
  },
  {
   "cell_type": "markdown",
   "id": "64b0f464",
   "metadata": {},
   "source": [
    "##### most of the customers are male"
   ]
  },
  {
   "cell_type": "code",
   "execution_count": 9,
   "id": "453a65a5",
   "metadata": {},
   "outputs": [
    {
     "data": {
      "image/png": "[encoded data removed]",
      "text/plain": [
       "<Figure size 432x288 with 1 Axes>"
      ]
     },
     "metadata": {},
     "output_type": "display_data"
    }
   ],
   "source": [
    "#age\n",
    "sns.set_style('whitegrid')\n",
    "sns.distplot(df['Age'])\n",
    "plt.show()"
   ]
  },
  {
   "cell_type": "markdown",
   "id": "e3845b01",
   "metadata": {},
   "source": [
    "##### most of the customers are in the age group of 35 to 40"
   ]
  },
  {
   "cell_type": "code",
   "execution_count": 10,
   "id": "8fea5b0d",
   "metadata": {},
   "outputs": [
    {
     "data": {
      "image/png": "[encoded data removed]",
      "text/plain": [
       "<Figure size 432x288 with 1 Axes>"
      ]
     },
     "metadata": {},
     "output_type": "display_data"
    }
   ],
   "source": [
    "#tenure\n",
    "sns.countplot(x='Tenure',data=df,palette='mako')\n",
    "plt.show()"
   ]
  },
  {
   "cell_type": "markdown",
   "id": "3bf884ff",
   "metadata": {},
   "source": [
    "##### most of the customers have worked for the range of 1-10"
   ]
  },
  {
   "cell_type": "code",
   "execution_count": 11,
   "id": "0cf93b3c",
   "metadata": {},
   "outputs": [
    {
     "data": {
      "image/png": "[encoded data removed]",
      "text/plain": [
       "<Figure size 432x288 with 1 Axes>"
      ]
     },
     "metadata": {},
     "output_type": "display_data"
    }
   ],
   "source": [
    "#balance\n",
    "sns.distplot(df['Balance'])\n",
    "plt.show()"
   ]
  },
  {
   "cell_type": "markdown",
   "id": "686c0fc5",
   "metadata": {},
   "source": [
    "##### most of the customers have zero balance"
   ]
  },
  {
   "cell_type": "code",
   "execution_count": 12,
   "id": "a3310dbc",
   "metadata": {},
   "outputs": [
    {
     "data": {
      "image/png": "[encoded data removed]",
      "text/plain": [
       "<Figure size 432x288 with 1 Axes>"
      ]
     },
     "metadata": {},
     "output_type": "display_data"
    }
   ],
   "source": [
    "#Num Of Products\n",
    "sns.countplot(x='NumOfProducts',data=df,palette='mako')\n",
    "plt.show()"
   ]
  },
  {
   "cell_type": "markdown",
   "id": "38bc2db3",
   "metadata": {},
   "source": [
    "##### The count of 1 is more in num of products  variable"
   ]
  },
  {
   "cell_type": "code",
   "execution_count": 13,
   "id": "bb870558",
   "metadata": {},
   "outputs": [
    {
     "data": {
      "image/png": "[encoded data removed]",
      "text/plain": [
       "<Figure size 432x288 with 1 Axes>"
      ]
     },
     "metadata": {},
     "output_type": "display_data"
    }
   ],
   "source": [
    "#Has Cr Card\n",
    "sns.countplot(x='HasCrCard',data=df,palette='mako')\n",
    "plt.show()"
   ]
  },
  {
   "cell_type": "markdown",
   "id": "fc2cda21",
   "metadata": {},
   "source": [
    "##### most of the customers have credit cards"
   ]
  },
  {
   "cell_type": "code",
   "execution_count": 14,
   "id": "0350fbd3",
   "metadata": {},
   "outputs": [
    {
     "data": {
      "image/png": "[encoded data removed]",
      "text/plain": [
       "<Figure size 432x288 with 1 Axes>"
      ]
     },
     "metadata": {},
     "output_type": "display_data"
    }
   ],
   "source": [
    "#Is Active Member\n",
    "sns.countplot(x='IsActiveMember',data=df,palette='mako')\n",
    "plt.show()"
   ]
  },
  {
   "cell_type": "markdown",
   "id": "6c520ec8",
   "metadata": {},
   "source": [
    "##### Most of the customers are still active members"
   ]
  },
  {
   "cell_type": "code",
   "execution_count": 15,
   "id": "ccfff86a",
   "metadata": {},
   "outputs": [
    {
     "data": {
      "image/png": "[encoded data removed]",
      "text/plain": [
       "<Figure size 432x288 with 1 Axes>"
      ]
     },
     "metadata": {},
     "output_type": "display_data"
    }
   ],
   "source": [
    "#Estimated Salary\n",
    "sns.histplot(df['EstimatedSalary'],color='lightblue')\n",
    "plt.show()"
   ]
  },
  {
   "cell_type": "markdown",
   "id": "565f5587",
   "metadata": {},
   "source": [
    "##### The estimated salary of the customers is in the range of 0 - 200000"
   ]
  },
  {
   "cell_type": "markdown",
   "id": "412e27ee",
   "metadata": {},
   "source": [
    "### Bi-Variate analysis:"
   ]
  },
  {
   "cell_type": "code",
   "execution_count": 16,
   "id": "8872b1b0",
   "metadata": {},
   "outputs": [
    {
     "data": {
      "image/png": "[encoded data removed]",
      "text/plain": [
       "<Figure size 432x288 with 1 Axes>"
      ]
     },
     "metadata": {},
     "output_type": "display_data"
    }
   ],
   "source": [
    "#CreditScore and Exited\n",
    "sns.barplot(y='CreditScore',x='Exited',data=df,palette='mako')\n",
    "plt.show()"
   ]
  },
  {
   "cell_type": "markdown",
   "id": "645247db",
   "metadata": {},
   "source": [
    "##### credit score is more for the exited customers"
   ]
  },
  {
   "cell_type": "code",
   "execution_count": 17,
   "id": "fc354ff7",
   "metadata": {},
   "outputs": [
    {
     "data": {
      "image/png": "[encoded data removed]",
      "text/plain": [
       "<Figure size 432x288 with 1 Axes>"
      ]
     },
     "metadata": {},
     "output_type": "display_data"
    }
   ],
   "source": [
    "#Exited and Geography\n",
    "sns.countplot(hue='Exited',x='Geography',data=df,palette='mako')\n",
    "plt.show()"
   ]
  },
  {
   "cell_type": "markdown",
   "id": "e5565ecd",
   "metadata": {},
   "source": [
    "##### In the countries most of the customers have not exited "
   ]
  },
  {
   "cell_type": "code",
   "execution_count": 18,
   "id": "1d52e5bc",
   "metadata": {},
   "outputs": [
    {
     "data": {
      "image/png": "[encoded data removed]",
      "text/plain": [
       "<Figure size 432x288 with 1 Axes>"
      ]
     },
     "metadata": {},
     "output_type": "display_data"
    }
   ],
   "source": [
    "#Age and Exited\n",
    "sns.barplot(y='Age',x='Exited',data=df,palette='mako')\n",
    "plt.show()"
   ]
  },
  {
   "cell_type": "markdown",
   "id": "f1c41181",
   "metadata": {},
   "source": [
    "##### the customers exited are having the age upto 45"
   ]
  },
  {
   "cell_type": "code",
   "execution_count": 19,
   "id": "ff5b72dc",
   "metadata": {},
   "outputs": [
    {
     "data": {
      "image/png": "[encoded data removed]",
      "text/plain": [
       "<Figure size 432x288 with 1 Axes>"
      ]
     },
     "metadata": {},
     "output_type": "display_data"
    }
   ],
   "source": [
    "#Exited and Tenure\n",
    "sns.countplot(hue='Exited',x='Tenure',data=df,palette='mako')\n",
    "plt.show()"
   ]
  },
  {
   "cell_type": "markdown",
   "id": "a36bcfa3",
   "metadata": {},
   "source": [
    "##### most of the customers exited are having tenure of 1 to 9"
   ]
  },
  {
   "cell_type": "code",
   "execution_count": 20,
   "id": "7b5cddcb",
   "metadata": {},
   "outputs": [
    {
     "data": {
      "image/png": "[encoded data removed]",
      "text/plain": [
       "<Figure size 432x288 with 1 Axes>"
      ]
     },
     "metadata": {},
     "output_type": "display_data"
    }
   ],
   "source": [
    "#Balance and Exited\n",
    "sns.barplot(y='Balance',x='Exited',data=df,palette='mako')\n",
    "plt.show()"
   ]
  },
  {
   "cell_type": "markdown",
   "id": "9d6ad654",
   "metadata": {},
   "source": [
    "##### most of the customers exited are having balance upto 90000 and non exited upto 70000"
   ]
  },
  {
   "cell_type": "code",
   "execution_count": 21,
   "id": "252e1717",
   "metadata": {},
   "outputs": [
    {
     "data": {
      "image/png": "[encoded data removed]",
      "text/plain": [
       "<Figure size 432x288 with 1 Axes>"
      ]
     },
     "metadata": {},
     "output_type": "display_data"
    }
   ],
   "source": [
    "#Exited and Num Of Products\n",
    "sns.countplot(hue='Exited',x='NumOfProducts',data=df,palette='mako')\n",
    "plt.show()"
   ]
  },
  {
   "cell_type": "markdown",
   "id": "3c1136fb",
   "metadata": {},
   "source": [
    "##### most of the non exited are having 2 num of products"
   ]
  },
  {
   "cell_type": "code",
   "execution_count": 22,
   "id": "60abff8a",
   "metadata": {},
   "outputs": [
    {
     "data": {
      "image/png": "[encoded data removed]",
      "text/plain": [
       "<Figure size 432x288 with 1 Axes>"
      ]
     },
     "metadata": {},
     "output_type": "display_data"
    }
   ],
   "source": [
    "#Exited and Has Cr Card\n",
    "sns.countplot(hue='Exited',x='HasCrCard',data=df,palette='mako')\n",
    "plt.show()"
   ]
  },
  {
   "cell_type": "markdown",
   "id": "6929b105",
   "metadata": {},
   "source": [
    "##### count of non exited are having a credit card"
   ]
  },
  {
   "cell_type": "code",
   "execution_count": 23,
   "id": "121cefc6",
   "metadata": {},
   "outputs": [
    {
     "data": {
      "image/png": "[encoded data removed]",
      "text/plain": [
       "<Figure size 432x288 with 1 Axes>"
      ]
     },
     "metadata": {},
     "output_type": "display_data"
    }
   ],
   "source": [
    "#Exited and Is Active Member\n",
    "sns.countplot(hue='Exited',x='IsActiveMember',data=df,palette='mako')\n",
    "plt.show()"
   ]
  },
  {
   "cell_type": "markdown",
   "id": "2d4f2d4d",
   "metadata": {},
   "source": [
    "##### most of the non-exited are still active members"
   ]
  },
  {
   "cell_type": "code",
   "execution_count": 24,
   "id": "2f27d9b0",
   "metadata": {},
   "outputs": [
    {
     "data": {
      "image/png": "[encoded data removed]",
      "text/plain": [
       "<Figure size 432x288 with 1 Axes>"
      ]
     },
     "metadata": {},
     "output_type": "display_data"
    }
   ],
   "source": [
    "#EstimatedSalary and Exited\n",
    "sns.barplot(y='EstimatedSalary',x='Exited',data=df,palette='mako')\n",
    "plt.show()"
   ]
  },
  {
   "cell_type": "markdown",
   "id": "e18e4989",
   "metadata": {},
   "source": [
    "##### Estimated Salary of the exited customers is more than the non exited cutomers"
   ]
  },
  {
   "cell_type": "markdown",
   "id": "ba7642b0",
   "metadata": {},
   "source": [
    "### Multivariate"
   ]
  },
  {
   "cell_type": "code",
   "execution_count": 25,
   "id": "5d68d2ea",
   "metadata": {},
   "outputs": [
    {
     "data": {
      "image/png": "[encoded data removed]",
      "text/plain": [
       "<Figure size 1656x720 with 2 Axes>"
      ]
     },
     "metadata": {},
     "output_type": "display_data"
    }
   ],
   "source": [
    "#checking correlation values\n",
    "plt.figure(figsize=(23,10))\n",
    "sns.heatmap(df.corr(),annot=True)\n",
    "plt.show()"
   ]
  },
  {
   "cell_type": "markdown",
   "id": "e2003c01",
   "metadata": {},
   "source": [
    "##### there is no problem of collinearity  in this data set"
   ]
  },
  {
   "cell_type": "markdown",
   "id": "edbda705",
   "metadata": {},
   "source": [
    "## Missing Values:-"
   ]
  },
  {
   "cell_type": "code",
   "execution_count": 26,
   "id": "71d45005",
   "metadata": {},
   "outputs": [
    {
     "data": {
      "text/plain": [
       "CreditScore        0\n",
       "Geography          0\n",
       "Gender             0\n",
       "Age                0\n",
       "Tenure             0\n",
       "Balance            0\n",
       "NumOfProducts      0\n",
       "HasCrCard          0\n",
       "IsActiveMember     0\n",
       "EstimatedSalary    0\n",
       "Exited             0\n",
       "dtype: int64"
      ]
     },
     "execution_count": 26,
     "metadata": {},
     "output_type": "execute_result"
    }
   ],
   "source": [
    "df.isnull().sum() #checking for missing values"
   ]
  },
  {
   "cell_type": "markdown",
   "id": "83eba196",
   "metadata": {},
   "source": [
    "##### No missing values"
   ]
  },
  {
   "cell_type": "markdown",
   "id": "044ccc66",
   "metadata": {},
   "source": [
    "## Outliers:-"
   ]
  },
  {
   "cell_type": "code",
   "execution_count": 27,
   "id": "e96d216d",
   "metadata": {},
   "outputs": [
    {
     "data": {
      "image/png": "[encoded data removed]",
      "text/plain": [
       "<Figure size 1440x720 with 4 Axes>"
      ]
     },
     "metadata": {},
     "output_type": "display_data"
    }
   ],
   "source": [
    "#checking for outliers\n",
    "plt.figure(figsize=(20,10))\n",
    "#Credit Score\n",
    "plt.subplot(2,2,1)\n",
    "sns.boxplot(df['CreditScore'])\n",
    "plt.title('CreditScore')\n",
    "#Age\n",
    "plt.subplot(2,2,2)\n",
    "sns.boxplot(df['Age'])\n",
    "plt.title('Age')\n",
    "#Balance\n",
    "plt.subplot(2,2,3)\n",
    "sns.boxplot(df['Balance'])\n",
    "plt.title('Balance')\n",
    "#Estimated Salary\n",
    "plt.subplot(2,2,4)\n",
    "sns.boxplot(df['EstimatedSalary'])\n",
    "plt.title('EstimatedSalary')\n",
    "plt.show()"
   ]
  },
  {
   "cell_type": "code",
   "execution_count": 28,
   "id": "693c37d0",
   "metadata": {},
   "outputs": [],
   "source": [
    "#1st and 3rd quantiles values for credit score\n",
    "q1_CreditScore=df['CreditScore'].quantile(0.25)\n",
    "q3_CreditScore=df['CreditScore'].quantile(0.75)\n",
    "\n",
    "#1st and 3rd quantiles values for Age\n",
    "q1_Age=df['Age'].quantile(0.25)\n",
    "q3_Age=df['Age'].quantile(0.75)\n",
    "\n",
    "#inter quartile range for credit score\n",
    "iqr_CreditScore=q3_CreditScore-q1_CreditScore\n",
    "\n",
    "#inter quartile range for age\n",
    "iqr_Age=q3_Age-q1_Age\n",
    "\n",
    "#low and high values for credit score\n",
    "low_CreditScore=q1_CreditScore-(1.5*iqr_CreditScore)\n",
    "high_CreditScore=q3_CreditScore+(1.5*iqr_CreditScore)\n",
    "\n",
    "#low and high values for age\n",
    "low_Age=q1_Age-(1.5*iqr_Age)\n",
    "high_Age=q3_Age+(1.5*iqr_Age)"
   ]
  },
  {
   "cell_type": "code",
   "execution_count": 29,
   "id": "657d9a7e",
   "metadata": {},
   "outputs": [],
   "source": [
    "#replacing the outliers with na values\n",
    "df.loc[(df['CreditScore']<low_CreditScore),'CreditScore']=np.nan\n",
    "#replacing those na values with low values\n",
    "df['CreditScore'].fillna(low_CreditScore,inplace=True)"
   ]
  },
  {
   "cell_type": "code",
   "execution_count": 30,
   "id": "a4b642d5",
   "metadata": {},
   "outputs": [],
   "source": [
    "#replacing the outliers with na values\n",
    "df.loc[(df['Age']>high_Age),'Age']=np.nan\n",
    "#replacing those na values with high values\n",
    "df['Age'].fillna(high_Age,inplace=True)"
   ]
  },
  {
   "cell_type": "code",
   "execution_count": 31,
   "id": "beb3d50d",
   "metadata": {},
   "outputs": [
    {
     "data": {
      "image/png": "[encoded data removed]",
      "text/plain": [
       "<Figure size 1080x432 with 2 Axes>"
      ]
     },
     "metadata": {},
     "output_type": "display_data"
    }
   ],
   "source": [
    "# checking if anymore outliers are present\n",
    "plt.figure(figsize=(15,6))\n",
    "plt.subplot(1,2,1)\n",
    "sns.boxplot(df['CreditScore'])\n",
    "plt.title('CreditScore')\n",
    "\n",
    "plt.subplot(1,2,2)\n",
    "sns.boxplot(df['Age'])\n",
    "plt.title('Age')\n",
    "plt.show()"
   ]
  },
  {
   "cell_type": "markdown",
   "id": "5831e11c",
   "metadata": {},
   "source": [
    "##### outliers are replaced"
   ]
  },
  {
   "cell_type": "markdown",
   "id": "5542037a",
   "metadata": {},
   "source": [
    "## Hypothesis testing:"
   ]
  },
  {
   "cell_type": "markdown",
   "id": "a9616dfe",
   "metadata": {},
   "source": [
    "- h0: Geography and Gender categorical variables are dependent on each other\n",
    "- ha: Geography and Gender categorical variables are independent variables"
   ]
  },
  {
   "cell_type": "code",
   "execution_count": 32,
   "id": "47f5df2f",
   "metadata": {},
   "outputs": [
    {
     "data": {
      "text/html": [
       "<div>\n",
       "<style scoped>\n",
       "    .dataframe tbody tr th:only-of-type {\n",
       "        vertical-align: middle;\n",
       "    }\n",
       "\n",
       "    .dataframe tbody tr th {\n",
       "        vertical-align: top;\n",
       "    }\n",
       "\n",
       "    .dataframe thead th {\n",
       "        text-align: right;\n",
       "    }\n",
       "</style>\n",
       "<table border=\"1\" class=\"dataframe\">\n",
       "  <thead>\n",
       "    <tr style=\"text-align: right;\">\n",
       "      <th>Gender</th>\n",
       "      <th>Female</th>\n",
       "      <th>Male</th>\n",
       "    </tr>\n",
       "    <tr>\n",
       "      <th>Geography</th>\n",
       "      <th></th>\n",
       "      <th></th>\n",
       "    </tr>\n",
       "  </thead>\n",
       "  <tbody>\n",
       "    <tr>\n",
       "      <th>France</th>\n",
       "      <td>2261</td>\n",
       "      <td>2753</td>\n",
       "    </tr>\n",
       "    <tr>\n",
       "      <th>Germany</th>\n",
       "      <td>1193</td>\n",
       "      <td>1316</td>\n",
       "    </tr>\n",
       "    <tr>\n",
       "      <th>Spain</th>\n",
       "      <td>1089</td>\n",
       "      <td>1388</td>\n",
       "    </tr>\n",
       "  </tbody>\n",
       "</table>\n",
       "</div>"
      ],
      "text/plain": [
       "Gender     Female  Male\n",
       "Geography              \n",
       "France       2261  2753\n",
       "Germany      1193  1316\n",
       "Spain        1089  1388"
      ]
     },
     "execution_count": 32,
     "metadata": {},
     "output_type": "execute_result"
    }
   ],
   "source": [
    "count=pd.crosstab(df[\"Geography\"],df[\"Gender\"])\n",
    "count"
   ]
  },
  {
   "cell_type": "code",
   "execution_count": 34,
   "id": "7ae0d641",
   "metadata": {},
   "outputs": [
    {
     "data": {
      "text/plain": [
       "(6.918159617700976,\n",
       " 0.03145869671789379,\n",
       " 2,\n",
       " array([[2277.8602, 2736.1398],\n",
       "        [1139.8387, 1369.1613],\n",
       "        [1125.3011, 1351.6989]]))"
      ]
     },
     "execution_count": 34,
     "metadata": {},
     "output_type": "execute_result"
    }
   ],
   "source": [
    "from scipy import stats\n",
    "stats.chi2_contingency(count)"
   ]
  },
  {
   "cell_type": "code",
   "execution_count": null,
   "id": "6d62ac98",
   "metadata": {},
   "outputs": [],
   "source": []
  },
  {
   "cell_type": "code",
   "execution_count": null,
   "id": "dd98d27e",
   "metadata": {},
   "outputs": [],
   "source": []
  },
  {
   "cell_type": "markdown",
   "id": "544c7d3d",
   "metadata": {},
   "source": [
    "## Categorical data handling:-"
   ]
  },
  {
   "cell_type": "code",
   "execution_count": 32,
   "id": "58c1682f",
   "metadata": {},
   "outputs": [
    {
     "data": {
      "text/html": [
       "<div>\n",
       "<style scoped>\n",
       "    .dataframe tbody tr th:only-of-type {\n",
       "        vertical-align: middle;\n",
       "    }\n",
       "\n",
       "    .dataframe tbody tr th {\n",
       "        vertical-align: top;\n",
       "    }\n",
       "\n",
       "    .dataframe thead th {\n",
       "        text-align: right;\n",
       "    }\n",
       "</style>\n",
       "<table border=\"1\" class=\"dataframe\">\n",
       "  <thead>\n",
       "    <tr style=\"text-align: right;\">\n",
       "      <th></th>\n",
       "      <th>CreditScore</th>\n",
       "      <th>Geography</th>\n",
       "      <th>Gender</th>\n",
       "      <th>Age</th>\n",
       "      <th>Tenure</th>\n",
       "      <th>Balance</th>\n",
       "      <th>NumOfProducts</th>\n",
       "      <th>HasCrCard</th>\n",
       "      <th>IsActiveMember</th>\n",
       "      <th>EstimatedSalary</th>\n",
       "      <th>Exited</th>\n",
       "    </tr>\n",
       "  </thead>\n",
       "  <tbody>\n",
       "    <tr>\n",
       "      <th>0</th>\n",
       "      <td>619.0</td>\n",
       "      <td>France</td>\n",
       "      <td>Female</td>\n",
       "      <td>42.0</td>\n",
       "      <td>2</td>\n",
       "      <td>0.00</td>\n",
       "      <td>1</td>\n",
       "      <td>1</td>\n",
       "      <td>1</td>\n",
       "      <td>101348.88</td>\n",
       "      <td>1</td>\n",
       "    </tr>\n",
       "    <tr>\n",
       "      <th>1</th>\n",
       "      <td>608.0</td>\n",
       "      <td>Spain</td>\n",
       "      <td>Female</td>\n",
       "      <td>41.0</td>\n",
       "      <td>1</td>\n",
       "      <td>83807.86</td>\n",
       "      <td>1</td>\n",
       "      <td>0</td>\n",
       "      <td>1</td>\n",
       "      <td>112542.58</td>\n",
       "      <td>0</td>\n",
       "    </tr>\n",
       "    <tr>\n",
       "      <th>2</th>\n",
       "      <td>502.0</td>\n",
       "      <td>France</td>\n",
       "      <td>Female</td>\n",
       "      <td>42.0</td>\n",
       "      <td>8</td>\n",
       "      <td>159660.80</td>\n",
       "      <td>3</td>\n",
       "      <td>1</td>\n",
       "      <td>0</td>\n",
       "      <td>113931.57</td>\n",
       "      <td>1</td>\n",
       "    </tr>\n",
       "    <tr>\n",
       "      <th>3</th>\n",
       "      <td>699.0</td>\n",
       "      <td>France</td>\n",
       "      <td>Female</td>\n",
       "      <td>39.0</td>\n",
       "      <td>1</td>\n",
       "      <td>0.00</td>\n",
       "      <td>2</td>\n",
       "      <td>0</td>\n",
       "      <td>0</td>\n",
       "      <td>93826.63</td>\n",
       "      <td>0</td>\n",
       "    </tr>\n",
       "    <tr>\n",
       "      <th>4</th>\n",
       "      <td>850.0</td>\n",
       "      <td>Spain</td>\n",
       "      <td>Female</td>\n",
       "      <td>43.0</td>\n",
       "      <td>2</td>\n",
       "      <td>125510.82</td>\n",
       "      <td>1</td>\n",
       "      <td>1</td>\n",
       "      <td>1</td>\n",
       "      <td>79084.10</td>\n",
       "      <td>0</td>\n",
       "    </tr>\n",
       "    <tr>\n",
       "      <th>...</th>\n",
       "      <td>...</td>\n",
       "      <td>...</td>\n",
       "      <td>...</td>\n",
       "      <td>...</td>\n",
       "      <td>...</td>\n",
       "      <td>...</td>\n",
       "      <td>...</td>\n",
       "      <td>...</td>\n",
       "      <td>...</td>\n",
       "      <td>...</td>\n",
       "      <td>...</td>\n",
       "    </tr>\n",
       "    <tr>\n",
       "      <th>9995</th>\n",
       "      <td>771.0</td>\n",
       "      <td>France</td>\n",
       "      <td>Male</td>\n",
       "      <td>39.0</td>\n",
       "      <td>5</td>\n",
       "      <td>0.00</td>\n",
       "      <td>2</td>\n",
       "      <td>1</td>\n",
       "      <td>0</td>\n",
       "      <td>96270.64</td>\n",
       "      <td>0</td>\n",
       "    </tr>\n",
       "    <tr>\n",
       "      <th>9996</th>\n",
       "      <td>516.0</td>\n",
       "      <td>France</td>\n",
       "      <td>Male</td>\n",
       "      <td>35.0</td>\n",
       "      <td>10</td>\n",
       "      <td>57369.61</td>\n",
       "      <td>1</td>\n",
       "      <td>1</td>\n",
       "      <td>1</td>\n",
       "      <td>101699.77</td>\n",
       "      <td>0</td>\n",
       "    </tr>\n",
       "    <tr>\n",
       "      <th>9997</th>\n",
       "      <td>709.0</td>\n",
       "      <td>France</td>\n",
       "      <td>Female</td>\n",
       "      <td>36.0</td>\n",
       "      <td>7</td>\n",
       "      <td>0.00</td>\n",
       "      <td>1</td>\n",
       "      <td>0</td>\n",
       "      <td>1</td>\n",
       "      <td>42085.58</td>\n",
       "      <td>1</td>\n",
       "    </tr>\n",
       "    <tr>\n",
       "      <th>9998</th>\n",
       "      <td>772.0</td>\n",
       "      <td>Germany</td>\n",
       "      <td>Male</td>\n",
       "      <td>42.0</td>\n",
       "      <td>3</td>\n",
       "      <td>75075.31</td>\n",
       "      <td>2</td>\n",
       "      <td>1</td>\n",
       "      <td>0</td>\n",
       "      <td>92888.52</td>\n",
       "      <td>1</td>\n",
       "    </tr>\n",
       "    <tr>\n",
       "      <th>9999</th>\n",
       "      <td>792.0</td>\n",
       "      <td>France</td>\n",
       "      <td>Female</td>\n",
       "      <td>28.0</td>\n",
       "      <td>4</td>\n",
       "      <td>130142.79</td>\n",
       "      <td>1</td>\n",
       "      <td>1</td>\n",
       "      <td>0</td>\n",
       "      <td>38190.78</td>\n",
       "      <td>0</td>\n",
       "    </tr>\n",
       "  </tbody>\n",
       "</table>\n",
       "<p>10000 rows × 11 columns</p>\n",
       "</div>"
      ],
      "text/plain": [
       "      CreditScore Geography  Gender   Age  Tenure    Balance  NumOfProducts  \\\n",
       "0           619.0    France  Female  42.0       2       0.00              1   \n",
       "1           608.0     Spain  Female  41.0       1   83807.86              1   \n",
       "2           502.0    France  Female  42.0       8  159660.80              3   \n",
       "3           699.0    France  Female  39.0       1       0.00              2   \n",
       "4           850.0     Spain  Female  43.0       2  125510.82              1   \n",
       "...           ...       ...     ...   ...     ...        ...            ...   \n",
       "9995        771.0    France    Male  39.0       5       0.00              2   \n",
       "9996        516.0    France    Male  35.0      10   57369.61              1   \n",
       "9997        709.0    France  Female  36.0       7       0.00              1   \n",
       "9998        772.0   Germany    Male  42.0       3   75075.31              2   \n",
       "9999        792.0    France  Female  28.0       4  130142.79              1   \n",
       "\n",
       "      HasCrCard  IsActiveMember  EstimatedSalary  Exited  \n",
       "0             1               1        101348.88       1  \n",
       "1             0               1        112542.58       0  \n",
       "2             1               0        113931.57       1  \n",
       "3             0               0         93826.63       0  \n",
       "4             1               1         79084.10       0  \n",
       "...         ...             ...              ...     ...  \n",
       "9995          1               0         96270.64       0  \n",
       "9996          1               1        101699.77       0  \n",
       "9997          0               1         42085.58       1  \n",
       "9998          1               0         92888.52       1  \n",
       "9999          1               0         38190.78       0  \n",
       "\n",
       "[10000 rows x 11 columns]"
      ]
     },
     "execution_count": 32,
     "metadata": {},
     "output_type": "execute_result"
    }
   ],
   "source": [
    "df"
   ]
  },
  {
   "cell_type": "code",
   "execution_count": 33,
   "id": "1e1d570a",
   "metadata": {},
   "outputs": [],
   "source": [
    "df=pd.get_dummies(df,drop_first=True) "
   ]
  },
  {
   "cell_type": "code",
   "execution_count": 34,
   "id": "e29a7b5c",
   "metadata": {},
   "outputs": [
    {
     "data": {
      "text/html": [
       "<div>\n",
       "<style scoped>\n",
       "    .dataframe tbody tr th:only-of-type {\n",
       "        vertical-align: middle;\n",
       "    }\n",
       "\n",
       "    .dataframe tbody tr th {\n",
       "        vertical-align: top;\n",
       "    }\n",
       "\n",
       "    .dataframe thead th {\n",
       "        text-align: right;\n",
       "    }\n",
       "</style>\n",
       "<table border=\"1\" class=\"dataframe\">\n",
       "  <thead>\n",
       "    <tr style=\"text-align: right;\">\n",
       "      <th></th>\n",
       "      <th>CreditScore</th>\n",
       "      <th>Age</th>\n",
       "      <th>Tenure</th>\n",
       "      <th>Balance</th>\n",
       "      <th>NumOfProducts</th>\n",
       "      <th>HasCrCard</th>\n",
       "      <th>IsActiveMember</th>\n",
       "      <th>EstimatedSalary</th>\n",
       "      <th>Exited</th>\n",
       "      <th>Geography_Germany</th>\n",
       "      <th>Geography_Spain</th>\n",
       "      <th>Gender_Male</th>\n",
       "    </tr>\n",
       "  </thead>\n",
       "  <tbody>\n",
       "    <tr>\n",
       "      <th>0</th>\n",
       "      <td>619.0</td>\n",
       "      <td>42.0</td>\n",
       "      <td>2</td>\n",
       "      <td>0.00</td>\n",
       "      <td>1</td>\n",
       "      <td>1</td>\n",
       "      <td>1</td>\n",
       "      <td>101348.88</td>\n",
       "      <td>1</td>\n",
       "      <td>0</td>\n",
       "      <td>0</td>\n",
       "      <td>0</td>\n",
       "    </tr>\n",
       "    <tr>\n",
       "      <th>1</th>\n",
       "      <td>608.0</td>\n",
       "      <td>41.0</td>\n",
       "      <td>1</td>\n",
       "      <td>83807.86</td>\n",
       "      <td>1</td>\n",
       "      <td>0</td>\n",
       "      <td>1</td>\n",
       "      <td>112542.58</td>\n",
       "      <td>0</td>\n",
       "      <td>0</td>\n",
       "      <td>1</td>\n",
       "      <td>0</td>\n",
       "    </tr>\n",
       "    <tr>\n",
       "      <th>2</th>\n",
       "      <td>502.0</td>\n",
       "      <td>42.0</td>\n",
       "      <td>8</td>\n",
       "      <td>159660.80</td>\n",
       "      <td>3</td>\n",
       "      <td>1</td>\n",
       "      <td>0</td>\n",
       "      <td>113931.57</td>\n",
       "      <td>1</td>\n",
       "      <td>0</td>\n",
       "      <td>0</td>\n",
       "      <td>0</td>\n",
       "    </tr>\n",
       "    <tr>\n",
       "      <th>3</th>\n",
       "      <td>699.0</td>\n",
       "      <td>39.0</td>\n",
       "      <td>1</td>\n",
       "      <td>0.00</td>\n",
       "      <td>2</td>\n",
       "      <td>0</td>\n",
       "      <td>0</td>\n",
       "      <td>93826.63</td>\n",
       "      <td>0</td>\n",
       "      <td>0</td>\n",
       "      <td>0</td>\n",
       "      <td>0</td>\n",
       "    </tr>\n",
       "    <tr>\n",
       "      <th>4</th>\n",
       "      <td>850.0</td>\n",
       "      <td>43.0</td>\n",
       "      <td>2</td>\n",
       "      <td>125510.82</td>\n",
       "      <td>1</td>\n",
       "      <td>1</td>\n",
       "      <td>1</td>\n",
       "      <td>79084.10</td>\n",
       "      <td>0</td>\n",
       "      <td>0</td>\n",
       "      <td>1</td>\n",
       "      <td>0</td>\n",
       "    </tr>\n",
       "    <tr>\n",
       "      <th>...</th>\n",
       "      <td>...</td>\n",
       "      <td>...</td>\n",
       "      <td>...</td>\n",
       "      <td>...</td>\n",
       "      <td>...</td>\n",
       "      <td>...</td>\n",
       "      <td>...</td>\n",
       "      <td>...</td>\n",
       "      <td>...</td>\n",
       "      <td>...</td>\n",
       "      <td>...</td>\n",
       "      <td>...</td>\n",
       "    </tr>\n",
       "    <tr>\n",
       "      <th>9995</th>\n",
       "      <td>771.0</td>\n",
       "      <td>39.0</td>\n",
       "      <td>5</td>\n",
       "      <td>0.00</td>\n",
       "      <td>2</td>\n",
       "      <td>1</td>\n",
       "      <td>0</td>\n",
       "      <td>96270.64</td>\n",
       "      <td>0</td>\n",
       "      <td>0</td>\n",
       "      <td>0</td>\n",
       "      <td>1</td>\n",
       "    </tr>\n",
       "    <tr>\n",
       "      <th>9996</th>\n",
       "      <td>516.0</td>\n",
       "      <td>35.0</td>\n",
       "      <td>10</td>\n",
       "      <td>57369.61</td>\n",
       "      <td>1</td>\n",
       "      <td>1</td>\n",
       "      <td>1</td>\n",
       "      <td>101699.77</td>\n",
       "      <td>0</td>\n",
       "      <td>0</td>\n",
       "      <td>0</td>\n",
       "      <td>1</td>\n",
       "    </tr>\n",
       "    <tr>\n",
       "      <th>9997</th>\n",
       "      <td>709.0</td>\n",
       "      <td>36.0</td>\n",
       "      <td>7</td>\n",
       "      <td>0.00</td>\n",
       "      <td>1</td>\n",
       "      <td>0</td>\n",
       "      <td>1</td>\n",
       "      <td>42085.58</td>\n",
       "      <td>1</td>\n",
       "      <td>0</td>\n",
       "      <td>0</td>\n",
       "      <td>0</td>\n",
       "    </tr>\n",
       "    <tr>\n",
       "      <th>9998</th>\n",
       "      <td>772.0</td>\n",
       "      <td>42.0</td>\n",
       "      <td>3</td>\n",
       "      <td>75075.31</td>\n",
       "      <td>2</td>\n",
       "      <td>1</td>\n",
       "      <td>0</td>\n",
       "      <td>92888.52</td>\n",
       "      <td>1</td>\n",
       "      <td>1</td>\n",
       "      <td>0</td>\n",
       "      <td>1</td>\n",
       "    </tr>\n",
       "    <tr>\n",
       "      <th>9999</th>\n",
       "      <td>792.0</td>\n",
       "      <td>28.0</td>\n",
       "      <td>4</td>\n",
       "      <td>130142.79</td>\n",
       "      <td>1</td>\n",
       "      <td>1</td>\n",
       "      <td>0</td>\n",
       "      <td>38190.78</td>\n",
       "      <td>0</td>\n",
       "      <td>0</td>\n",
       "      <td>0</td>\n",
       "      <td>0</td>\n",
       "    </tr>\n",
       "  </tbody>\n",
       "</table>\n",
       "<p>10000 rows × 12 columns</p>\n",
       "</div>"
      ],
      "text/plain": [
       "      CreditScore   Age  Tenure    Balance  NumOfProducts  HasCrCard  \\\n",
       "0           619.0  42.0       2       0.00              1          1   \n",
       "1           608.0  41.0       1   83807.86              1          0   \n",
       "2           502.0  42.0       8  159660.80              3          1   \n",
       "3           699.0  39.0       1       0.00              2          0   \n",
       "4           850.0  43.0       2  125510.82              1          1   \n",
       "...           ...   ...     ...        ...            ...        ...   \n",
       "9995        771.0  39.0       5       0.00              2          1   \n",
       "9996        516.0  35.0      10   57369.61              1          1   \n",
       "9997        709.0  36.0       7       0.00              1          0   \n",
       "9998        772.0  42.0       3   75075.31              2          1   \n",
       "9999        792.0  28.0       4  130142.79              1          1   \n",
       "\n",
       "      IsActiveMember  EstimatedSalary  Exited  Geography_Germany  \\\n",
       "0                  1        101348.88       1                  0   \n",
       "1                  1        112542.58       0                  0   \n",
       "2                  0        113931.57       1                  0   \n",
       "3                  0         93826.63       0                  0   \n",
       "4                  1         79084.10       0                  0   \n",
       "...              ...              ...     ...                ...   \n",
       "9995               0         96270.64       0                  0   \n",
       "9996               1        101699.77       0                  0   \n",
       "9997               1         42085.58       1                  0   \n",
       "9998               0         92888.52       1                  1   \n",
       "9999               0         38190.78       0                  0   \n",
       "\n",
       "      Geography_Spain  Gender_Male  \n",
       "0                   0            0  \n",
       "1                   1            0  \n",
       "2                   0            0  \n",
       "3                   0            0  \n",
       "4                   1            0  \n",
       "...               ...          ...  \n",
       "9995                0            1  \n",
       "9996                0            1  \n",
       "9997                0            0  \n",
       "9998                0            1  \n",
       "9999                0            0  \n",
       "\n",
       "[10000 rows x 12 columns]"
      ]
     },
     "execution_count": 34,
     "metadata": {},
     "output_type": "execute_result"
    }
   ],
   "source": [
    "df"
   ]
  },
  {
   "cell_type": "markdown",
   "id": "43c13b82",
   "metadata": {},
   "source": [
    "## Scaling:-"
   ]
  },
  {
   "cell_type": "code",
   "execution_count": 35,
   "id": "5158921f",
   "metadata": {},
   "outputs": [],
   "source": [
    "from sklearn.preprocessing import MinMaxScaler\n",
    "scale=MinMaxScaler()"
   ]
  },
  {
   "cell_type": "code",
   "execution_count": 36,
   "id": "345b74c6",
   "metadata": {},
   "outputs": [
    {
     "data": {
      "text/html": [
       "<div>\n",
       "<style scoped>\n",
       "    .dataframe tbody tr th:only-of-type {\n",
       "        vertical-align: middle;\n",
       "    }\n",
       "\n",
       "    .dataframe tbody tr th {\n",
       "        vertical-align: top;\n",
       "    }\n",
       "\n",
       "    .dataframe thead th {\n",
       "        text-align: right;\n",
       "    }\n",
       "</style>\n",
       "<table border=\"1\" class=\"dataframe\">\n",
       "  <thead>\n",
       "    <tr style=\"text-align: right;\">\n",
       "      <th></th>\n",
       "      <th>CreditScore</th>\n",
       "      <th>Age</th>\n",
       "      <th>Tenure</th>\n",
       "      <th>Balance</th>\n",
       "      <th>NumOfProducts</th>\n",
       "      <th>HasCrCard</th>\n",
       "      <th>IsActiveMember</th>\n",
       "      <th>EstimatedSalary</th>\n",
       "      <th>Geography_Germany</th>\n",
       "      <th>Geography_Spain</th>\n",
       "      <th>Gender_Male</th>\n",
       "    </tr>\n",
       "  </thead>\n",
       "  <tbody>\n",
       "    <tr>\n",
       "      <th>0</th>\n",
       "      <td>619.0</td>\n",
       "      <td>42.0</td>\n",
       "      <td>2</td>\n",
       "      <td>0.00</td>\n",
       "      <td>1</td>\n",
       "      <td>1</td>\n",
       "      <td>1</td>\n",
       "      <td>101348.88</td>\n",
       "      <td>0</td>\n",
       "      <td>0</td>\n",
       "      <td>0</td>\n",
       "    </tr>\n",
       "    <tr>\n",
       "      <th>1</th>\n",
       "      <td>608.0</td>\n",
       "      <td>41.0</td>\n",
       "      <td>1</td>\n",
       "      <td>83807.86</td>\n",
       "      <td>1</td>\n",
       "      <td>0</td>\n",
       "      <td>1</td>\n",
       "      <td>112542.58</td>\n",
       "      <td>0</td>\n",
       "      <td>1</td>\n",
       "      <td>0</td>\n",
       "    </tr>\n",
       "    <tr>\n",
       "      <th>2</th>\n",
       "      <td>502.0</td>\n",
       "      <td>42.0</td>\n",
       "      <td>8</td>\n",
       "      <td>159660.80</td>\n",
       "      <td>3</td>\n",
       "      <td>1</td>\n",
       "      <td>0</td>\n",
       "      <td>113931.57</td>\n",
       "      <td>0</td>\n",
       "      <td>0</td>\n",
       "      <td>0</td>\n",
       "    </tr>\n",
       "    <tr>\n",
       "      <th>3</th>\n",
       "      <td>699.0</td>\n",
       "      <td>39.0</td>\n",
       "      <td>1</td>\n",
       "      <td>0.00</td>\n",
       "      <td>2</td>\n",
       "      <td>0</td>\n",
       "      <td>0</td>\n",
       "      <td>93826.63</td>\n",
       "      <td>0</td>\n",
       "      <td>0</td>\n",
       "      <td>0</td>\n",
       "    </tr>\n",
       "    <tr>\n",
       "      <th>4</th>\n",
       "      <td>850.0</td>\n",
       "      <td>43.0</td>\n",
       "      <td>2</td>\n",
       "      <td>125510.82</td>\n",
       "      <td>1</td>\n",
       "      <td>1</td>\n",
       "      <td>1</td>\n",
       "      <td>79084.10</td>\n",
       "      <td>0</td>\n",
       "      <td>1</td>\n",
       "      <td>0</td>\n",
       "    </tr>\n",
       "    <tr>\n",
       "      <th>...</th>\n",
       "      <td>...</td>\n",
       "      <td>...</td>\n",
       "      <td>...</td>\n",
       "      <td>...</td>\n",
       "      <td>...</td>\n",
       "      <td>...</td>\n",
       "      <td>...</td>\n",
       "      <td>...</td>\n",
       "      <td>...</td>\n",
       "      <td>...</td>\n",
       "      <td>...</td>\n",
       "    </tr>\n",
       "    <tr>\n",
       "      <th>9995</th>\n",
       "      <td>771.0</td>\n",
       "      <td>39.0</td>\n",
       "      <td>5</td>\n",
       "      <td>0.00</td>\n",
       "      <td>2</td>\n",
       "      <td>1</td>\n",
       "      <td>0</td>\n",
       "      <td>96270.64</td>\n",
       "      <td>0</td>\n",
       "      <td>0</td>\n",
       "      <td>1</td>\n",
       "    </tr>\n",
       "    <tr>\n",
       "      <th>9996</th>\n",
       "      <td>516.0</td>\n",
       "      <td>35.0</td>\n",
       "      <td>10</td>\n",
       "      <td>57369.61</td>\n",
       "      <td>1</td>\n",
       "      <td>1</td>\n",
       "      <td>1</td>\n",
       "      <td>101699.77</td>\n",
       "      <td>0</td>\n",
       "      <td>0</td>\n",
       "      <td>1</td>\n",
       "    </tr>\n",
       "    <tr>\n",
       "      <th>9997</th>\n",
       "      <td>709.0</td>\n",
       "      <td>36.0</td>\n",
       "      <td>7</td>\n",
       "      <td>0.00</td>\n",
       "      <td>1</td>\n",
       "      <td>0</td>\n",
       "      <td>1</td>\n",
       "      <td>42085.58</td>\n",
       "      <td>0</td>\n",
       "      <td>0</td>\n",
       "      <td>0</td>\n",
       "    </tr>\n",
       "    <tr>\n",
       "      <th>9998</th>\n",
       "      <td>772.0</td>\n",
       "      <td>42.0</td>\n",
       "      <td>3</td>\n",
       "      <td>75075.31</td>\n",
       "      <td>2</td>\n",
       "      <td>1</td>\n",
       "      <td>0</td>\n",
       "      <td>92888.52</td>\n",
       "      <td>1</td>\n",
       "      <td>0</td>\n",
       "      <td>1</td>\n",
       "    </tr>\n",
       "    <tr>\n",
       "      <th>9999</th>\n",
       "      <td>792.0</td>\n",
       "      <td>28.0</td>\n",
       "      <td>4</td>\n",
       "      <td>130142.79</td>\n",
       "      <td>1</td>\n",
       "      <td>1</td>\n",
       "      <td>0</td>\n",
       "      <td>38190.78</td>\n",
       "      <td>0</td>\n",
       "      <td>0</td>\n",
       "      <td>0</td>\n",
       "    </tr>\n",
       "  </tbody>\n",
       "</table>\n",
       "<p>10000 rows × 11 columns</p>\n",
       "</div>"
      ],
      "text/plain": [
       "      CreditScore   Age  Tenure    Balance  NumOfProducts  HasCrCard  \\\n",
       "0           619.0  42.0       2       0.00              1          1   \n",
       "1           608.0  41.0       1   83807.86              1          0   \n",
       "2           502.0  42.0       8  159660.80              3          1   \n",
       "3           699.0  39.0       1       0.00              2          0   \n",
       "4           850.0  43.0       2  125510.82              1          1   \n",
       "...           ...   ...     ...        ...            ...        ...   \n",
       "9995        771.0  39.0       5       0.00              2          1   \n",
       "9996        516.0  35.0      10   57369.61              1          1   \n",
       "9997        709.0  36.0       7       0.00              1          0   \n",
       "9998        772.0  42.0       3   75075.31              2          1   \n",
       "9999        792.0  28.0       4  130142.79              1          1   \n",
       "\n",
       "      IsActiveMember  EstimatedSalary  Geography_Germany  Geography_Spain  \\\n",
       "0                  1        101348.88                  0                0   \n",
       "1                  1        112542.58                  0                1   \n",
       "2                  0        113931.57                  0                0   \n",
       "3                  0         93826.63                  0                0   \n",
       "4                  1         79084.10                  0                1   \n",
       "...              ...              ...                ...              ...   \n",
       "9995               0         96270.64                  0                0   \n",
       "9996               1        101699.77                  0                0   \n",
       "9997               1         42085.58                  0                0   \n",
       "9998               0         92888.52                  1                0   \n",
       "9999               0         38190.78                  0                0   \n",
       "\n",
       "      Gender_Male  \n",
       "0               0  \n",
       "1               0  \n",
       "2               0  \n",
       "3               0  \n",
       "4               0  \n",
       "...           ...  \n",
       "9995            1  \n",
       "9996            1  \n",
       "9997            0  \n",
       "9998            1  \n",
       "9999            0  \n",
       "\n",
       "[10000 rows x 11 columns]"
      ]
     },
     "execution_count": 36,
     "metadata": {},
     "output_type": "execute_result"
    }
   ],
   "source": [
    "x=df.drop(['Exited'],axis=1)\n",
    "names=x.columns\n",
    "x"
   ]
  },
  {
   "cell_type": "code",
   "execution_count": 37,
   "id": "186f041c",
   "metadata": {},
   "outputs": [
    {
     "data": {
      "text/html": [
       "<div>\n",
       "<style scoped>\n",
       "    .dataframe tbody tr th:only-of-type {\n",
       "        vertical-align: middle;\n",
       "    }\n",
       "\n",
       "    .dataframe tbody tr th {\n",
       "        vertical-align: top;\n",
       "    }\n",
       "\n",
       "    .dataframe thead th {\n",
       "        text-align: right;\n",
       "    }\n",
       "</style>\n",
       "<table border=\"1\" class=\"dataframe\">\n",
       "  <thead>\n",
       "    <tr style=\"text-align: right;\">\n",
       "      <th></th>\n",
       "      <th>Exited</th>\n",
       "    </tr>\n",
       "  </thead>\n",
       "  <tbody>\n",
       "    <tr>\n",
       "      <th>0</th>\n",
       "      <td>1</td>\n",
       "    </tr>\n",
       "    <tr>\n",
       "      <th>1</th>\n",
       "      <td>0</td>\n",
       "    </tr>\n",
       "    <tr>\n",
       "      <th>2</th>\n",
       "      <td>1</td>\n",
       "    </tr>\n",
       "    <tr>\n",
       "      <th>3</th>\n",
       "      <td>0</td>\n",
       "    </tr>\n",
       "    <tr>\n",
       "      <th>4</th>\n",
       "      <td>0</td>\n",
       "    </tr>\n",
       "    <tr>\n",
       "      <th>...</th>\n",
       "      <td>...</td>\n",
       "    </tr>\n",
       "    <tr>\n",
       "      <th>9995</th>\n",
       "      <td>0</td>\n",
       "    </tr>\n",
       "    <tr>\n",
       "      <th>9996</th>\n",
       "      <td>0</td>\n",
       "    </tr>\n",
       "    <tr>\n",
       "      <th>9997</th>\n",
       "      <td>1</td>\n",
       "    </tr>\n",
       "    <tr>\n",
       "      <th>9998</th>\n",
       "      <td>1</td>\n",
       "    </tr>\n",
       "    <tr>\n",
       "      <th>9999</th>\n",
       "      <td>0</td>\n",
       "    </tr>\n",
       "  </tbody>\n",
       "</table>\n",
       "<p>10000 rows × 1 columns</p>\n",
       "</div>"
      ],
      "text/plain": [
       "      Exited\n",
       "0          1\n",
       "1          0\n",
       "2          1\n",
       "3          0\n",
       "4          0\n",
       "...      ...\n",
       "9995       0\n",
       "9996       0\n",
       "9997       1\n",
       "9998       1\n",
       "9999       0\n",
       "\n",
       "[10000 rows x 1 columns]"
      ]
     },
     "execution_count": 37,
     "metadata": {},
     "output_type": "execute_result"
    }
   ],
   "source": [
    "y=df[['Exited']]\n",
    "y"
   ]
  },
  {
   "cell_type": "code",
   "execution_count": 38,
   "id": "80cb62be",
   "metadata": {},
   "outputs": [
    {
     "data": {
      "text/plain": [
       "array([[0.50535332, 0.54545455, 0.2       , ..., 0.        , 0.        ,\n",
       "        0.        ],\n",
       "       [0.48179872, 0.52272727, 0.1       , ..., 0.        , 1.        ,\n",
       "        0.        ],\n",
       "       [0.25481799, 0.54545455, 0.8       , ..., 0.        , 0.        ,\n",
       "        0.        ],\n",
       "       ...,\n",
       "       [0.69807281, 0.40909091, 0.7       , ..., 0.        , 0.        ,\n",
       "        0.        ],\n",
       "       [0.83297645, 0.54545455, 0.3       , ..., 1.        , 0.        ,\n",
       "        1.        ],\n",
       "       [0.875803  , 0.22727273, 0.4       , ..., 0.        , 0.        ,\n",
       "        0.        ]])"
      ]
     },
     "execution_count": 38,
     "metadata": {},
     "output_type": "execute_result"
    }
   ],
   "source": [
    "xnorm=scale.fit_transform(x)\n",
    "xnorm"
   ]
  },
  {
   "cell_type": "code",
   "execution_count": 39,
   "id": "b0c566fb",
   "metadata": {},
   "outputs": [
    {
     "data": {
      "text/html": [
       "<div>\n",
       "<style scoped>\n",
       "    .dataframe tbody tr th:only-of-type {\n",
       "        vertical-align: middle;\n",
       "    }\n",
       "\n",
       "    .dataframe tbody tr th {\n",
       "        vertical-align: top;\n",
       "    }\n",
       "\n",
       "    .dataframe thead th {\n",
       "        text-align: right;\n",
       "    }\n",
       "</style>\n",
       "<table border=\"1\" class=\"dataframe\">\n",
       "  <thead>\n",
       "    <tr style=\"text-align: right;\">\n",
       "      <th></th>\n",
       "      <th>CreditScore</th>\n",
       "      <th>Age</th>\n",
       "      <th>Tenure</th>\n",
       "      <th>Balance</th>\n",
       "      <th>NumOfProducts</th>\n",
       "      <th>HasCrCard</th>\n",
       "      <th>IsActiveMember</th>\n",
       "      <th>EstimatedSalary</th>\n",
       "      <th>Geography_Germany</th>\n",
       "      <th>Geography_Spain</th>\n",
       "      <th>Gender_Male</th>\n",
       "    </tr>\n",
       "  </thead>\n",
       "  <tbody>\n",
       "    <tr>\n",
       "      <th>0</th>\n",
       "      <td>0.505353</td>\n",
       "      <td>0.545455</td>\n",
       "      <td>0.2</td>\n",
       "      <td>0.000000</td>\n",
       "      <td>0.000000</td>\n",
       "      <td>1.0</td>\n",
       "      <td>1.0</td>\n",
       "      <td>0.506735</td>\n",
       "      <td>0.0</td>\n",
       "      <td>0.0</td>\n",
       "      <td>0.0</td>\n",
       "    </tr>\n",
       "    <tr>\n",
       "      <th>1</th>\n",
       "      <td>0.481799</td>\n",
       "      <td>0.522727</td>\n",
       "      <td>0.1</td>\n",
       "      <td>0.334031</td>\n",
       "      <td>0.000000</td>\n",
       "      <td>0.0</td>\n",
       "      <td>1.0</td>\n",
       "      <td>0.562709</td>\n",
       "      <td>0.0</td>\n",
       "      <td>1.0</td>\n",
       "      <td>0.0</td>\n",
       "    </tr>\n",
       "    <tr>\n",
       "      <th>2</th>\n",
       "      <td>0.254818</td>\n",
       "      <td>0.545455</td>\n",
       "      <td>0.8</td>\n",
       "      <td>0.636357</td>\n",
       "      <td>0.666667</td>\n",
       "      <td>1.0</td>\n",
       "      <td>0.0</td>\n",
       "      <td>0.569654</td>\n",
       "      <td>0.0</td>\n",
       "      <td>0.0</td>\n",
       "      <td>0.0</td>\n",
       "    </tr>\n",
       "    <tr>\n",
       "      <th>3</th>\n",
       "      <td>0.676660</td>\n",
       "      <td>0.477273</td>\n",
       "      <td>0.1</td>\n",
       "      <td>0.000000</td>\n",
       "      <td>0.333333</td>\n",
       "      <td>0.0</td>\n",
       "      <td>0.0</td>\n",
       "      <td>0.469120</td>\n",
       "      <td>0.0</td>\n",
       "      <td>0.0</td>\n",
       "      <td>0.0</td>\n",
       "    </tr>\n",
       "    <tr>\n",
       "      <th>4</th>\n",
       "      <td>1.000000</td>\n",
       "      <td>0.568182</td>\n",
       "      <td>0.2</td>\n",
       "      <td>0.500246</td>\n",
       "      <td>0.000000</td>\n",
       "      <td>1.0</td>\n",
       "      <td>1.0</td>\n",
       "      <td>0.395400</td>\n",
       "      <td>0.0</td>\n",
       "      <td>1.0</td>\n",
       "      <td>0.0</td>\n",
       "    </tr>\n",
       "    <tr>\n",
       "      <th>...</th>\n",
       "      <td>...</td>\n",
       "      <td>...</td>\n",
       "      <td>...</td>\n",
       "      <td>...</td>\n",
       "      <td>...</td>\n",
       "      <td>...</td>\n",
       "      <td>...</td>\n",
       "      <td>...</td>\n",
       "      <td>...</td>\n",
       "      <td>...</td>\n",
       "      <td>...</td>\n",
       "    </tr>\n",
       "    <tr>\n",
       "      <th>9995</th>\n",
       "      <td>0.830835</td>\n",
       "      <td>0.477273</td>\n",
       "      <td>0.5</td>\n",
       "      <td>0.000000</td>\n",
       "      <td>0.333333</td>\n",
       "      <td>1.0</td>\n",
       "      <td>0.0</td>\n",
       "      <td>0.481341</td>\n",
       "      <td>0.0</td>\n",
       "      <td>0.0</td>\n",
       "      <td>1.0</td>\n",
       "    </tr>\n",
       "    <tr>\n",
       "      <th>9996</th>\n",
       "      <td>0.284797</td>\n",
       "      <td>0.386364</td>\n",
       "      <td>1.0</td>\n",
       "      <td>0.228657</td>\n",
       "      <td>0.000000</td>\n",
       "      <td>1.0</td>\n",
       "      <td>1.0</td>\n",
       "      <td>0.508490</td>\n",
       "      <td>0.0</td>\n",
       "      <td>0.0</td>\n",
       "      <td>1.0</td>\n",
       "    </tr>\n",
       "    <tr>\n",
       "      <th>9997</th>\n",
       "      <td>0.698073</td>\n",
       "      <td>0.409091</td>\n",
       "      <td>0.7</td>\n",
       "      <td>0.000000</td>\n",
       "      <td>0.000000</td>\n",
       "      <td>0.0</td>\n",
       "      <td>1.0</td>\n",
       "      <td>0.210390</td>\n",
       "      <td>0.0</td>\n",
       "      <td>0.0</td>\n",
       "      <td>0.0</td>\n",
       "    </tr>\n",
       "    <tr>\n",
       "      <th>9998</th>\n",
       "      <td>0.832976</td>\n",
       "      <td>0.545455</td>\n",
       "      <td>0.3</td>\n",
       "      <td>0.299226</td>\n",
       "      <td>0.333333</td>\n",
       "      <td>1.0</td>\n",
       "      <td>0.0</td>\n",
       "      <td>0.464429</td>\n",
       "      <td>1.0</td>\n",
       "      <td>0.0</td>\n",
       "      <td>1.0</td>\n",
       "    </tr>\n",
       "    <tr>\n",
       "      <th>9999</th>\n",
       "      <td>0.875803</td>\n",
       "      <td>0.227273</td>\n",
       "      <td>0.4</td>\n",
       "      <td>0.518708</td>\n",
       "      <td>0.000000</td>\n",
       "      <td>1.0</td>\n",
       "      <td>0.0</td>\n",
       "      <td>0.190914</td>\n",
       "      <td>0.0</td>\n",
       "      <td>0.0</td>\n",
       "      <td>0.0</td>\n",
       "    </tr>\n",
       "  </tbody>\n",
       "</table>\n",
       "<p>10000 rows × 11 columns</p>\n",
       "</div>"
      ],
      "text/plain": [
       "      CreditScore       Age  Tenure   Balance  NumOfProducts  HasCrCard  \\\n",
       "0        0.505353  0.545455     0.2  0.000000       0.000000        1.0   \n",
       "1        0.481799  0.522727     0.1  0.334031       0.000000        0.0   \n",
       "2        0.254818  0.545455     0.8  0.636357       0.666667        1.0   \n",
       "3        0.676660  0.477273     0.1  0.000000       0.333333        0.0   \n",
       "4        1.000000  0.568182     0.2  0.500246       0.000000        1.0   \n",
       "...           ...       ...     ...       ...            ...        ...   \n",
       "9995     0.830835  0.477273     0.5  0.000000       0.333333        1.0   \n",
       "9996     0.284797  0.386364     1.0  0.228657       0.000000        1.0   \n",
       "9997     0.698073  0.409091     0.7  0.000000       0.000000        0.0   \n",
       "9998     0.832976  0.545455     0.3  0.299226       0.333333        1.0   \n",
       "9999     0.875803  0.227273     0.4  0.518708       0.000000        1.0   \n",
       "\n",
       "      IsActiveMember  EstimatedSalary  Geography_Germany  Geography_Spain  \\\n",
       "0                1.0         0.506735                0.0              0.0   \n",
       "1                1.0         0.562709                0.0              1.0   \n",
       "2                0.0         0.569654                0.0              0.0   \n",
       "3                0.0         0.469120                0.0              0.0   \n",
       "4                1.0         0.395400                0.0              1.0   \n",
       "...              ...              ...                ...              ...   \n",
       "9995             0.0         0.481341                0.0              0.0   \n",
       "9996             1.0         0.508490                0.0              0.0   \n",
       "9997             1.0         0.210390                0.0              0.0   \n",
       "9998             0.0         0.464429                1.0              0.0   \n",
       "9999             0.0         0.190914                0.0              0.0   \n",
       "\n",
       "      Gender_Male  \n",
       "0             0.0  \n",
       "1             0.0  \n",
       "2             0.0  \n",
       "3             0.0  \n",
       "4             0.0  \n",
       "...           ...  \n",
       "9995          1.0  \n",
       "9996          1.0  \n",
       "9997          0.0  \n",
       "9998          1.0  \n",
       "9999          0.0  \n",
       "\n",
       "[10000 rows x 11 columns]"
      ]
     },
     "execution_count": 39,
     "metadata": {},
     "output_type": "execute_result"
    }
   ],
   "source": [
    "xnorm = pd.DataFrame(xnorm, columns=names)\n",
    "xnorm"
   ]
  },
  {
   "cell_type": "markdown",
   "id": "eee80a98",
   "metadata": {},
   "source": [
    "## Model:-"
   ]
  },
  {
   "cell_type": "markdown",
   "id": "8544be2f",
   "metadata": {},
   "source": [
    "### data partition:-"
   ]
  },
  {
   "cell_type": "code",
   "execution_count": 40,
   "id": "bfe56c14",
   "metadata": {},
   "outputs": [],
   "source": [
    "from sklearn.model_selection import train_test_split\n",
    "xtrain,xtest,ytrain,ytest=train_test_split(xnorm,y,test_size=0.25,random_state=0)"
   ]
  },
  {
   "cell_type": "markdown",
   "id": "01adeb38",
   "metadata": {},
   "source": [
    "### logistic Regression:-"
   ]
  },
  {
   "cell_type": "code",
   "execution_count": 41,
   "id": "0cd321dc",
   "metadata": {},
   "outputs": [
    {
     "data": {
      "text/plain": [
       "0.818"
      ]
     },
     "execution_count": 41,
     "metadata": {},
     "output_type": "execute_result"
    }
   ],
   "source": [
    "from sklearn.linear_model import LogisticRegression\n",
    "classifier1=LogisticRegression()\n",
    "classifier1.fit(xtrain,ytrain)\n",
    "ypred1=classifier1.predict(xtest)\n",
    "ypred1\n",
    "from sklearn.metrics import confusion_matrix,accuracy_score\n",
    "cm1=confusion_matrix(ypred1,ytest)\n",
    "as1=accuracy_score(ypred1,ytest)\n",
    "as1"
   ]
  },
  {
   "cell_type": "markdown",
   "id": "66ef3f7c",
   "metadata": {},
   "source": [
    "### knn:-"
   ]
  },
  {
   "cell_type": "code",
   "execution_count": 42,
   "id": "5fe042e3",
   "metadata": {},
   "outputs": [
    {
     "data": {
      "text/plain": [
       "0.8244"
      ]
     },
     "execution_count": 42,
     "metadata": {},
     "output_type": "execute_result"
    }
   ],
   "source": [
    "from sklearn.neighbors import KNeighborsClassifier\n",
    "classifier2=KNeighborsClassifier(n_neighbors=5)\n",
    "classifier2.fit(xtrain,ytrain)\n",
    "ypred2=classifier2.predict(xtest)\n",
    "\n",
    "cm2=confusion_matrix(ypred2,ytest)\n",
    "as2=accuracy_score(ypred2,ytest)\n",
    "as2\n"
   ]
  },
  {
   "cell_type": "code",
   "execution_count": 43,
   "id": "82857ff2",
   "metadata": {},
   "outputs": [
    {
     "data": {
      "text/plain": [
       "0.8148"
      ]
     },
     "execution_count": 43,
     "metadata": {},
     "output_type": "execute_result"
    }
   ],
   "source": [
    "from sklearn.neighbors import KNeighborsClassifier\n",
    "classifier3=KNeighborsClassifier(n_neighbors=3)\n",
    "classifier3.fit(xtrain,ytrain)\n",
    "ypred3=classifier3.predict(xtest)\n",
    "\n",
    "cm3=confusion_matrix(ypred3,ytest)\n",
    "as3=accuracy_score(ypred3,ytest)\n",
    "as3"
   ]
  },
  {
   "cell_type": "markdown",
   "id": "e9c681e6",
   "metadata": {},
   "source": [
    "### Naive Bayes:-"
   ]
  },
  {
   "cell_type": "code",
   "execution_count": 44,
   "id": "b10b399f",
   "metadata": {},
   "outputs": [
    {
     "data": {
      "text/plain": [
       "0.8276"
      ]
     },
     "execution_count": 44,
     "metadata": {},
     "output_type": "execute_result"
    }
   ],
   "source": [
    "from sklearn.naive_bayes import GaussianNB\n",
    "classifier4=GaussianNB()\n",
    "classifier4.fit(xtrain,ytrain)\n",
    "ypred4=classifier4.predict(xtest)\n",
    "\n",
    "cm4=confusion_matrix(ypred4,ytest)\n",
    "as4=accuracy_score(ypred4,ytest)\n",
    "as4"
   ]
  },
  {
   "cell_type": "markdown",
   "id": "3d6341c8",
   "metadata": {},
   "source": [
    "### Decision Tree:-"
   ]
  },
  {
   "cell_type": "code",
   "execution_count": 45,
   "id": "fc4ce854",
   "metadata": {},
   "outputs": [
    {
     "data": {
      "text/plain": [
       "0.7996"
      ]
     },
     "execution_count": 45,
     "metadata": {},
     "output_type": "execute_result"
    }
   ],
   "source": [
    "from sklearn.tree import DecisionTreeClassifier\n",
    "classifier5=DecisionTreeClassifier(criterion='entropy')\n",
    "classifier5.fit(xtrain,ytrain)\n",
    "ypred5=classifier5.predict(xtest)\n",
    "\n",
    "cm5=confusion_matrix(ypred5,ytest)\n",
    "as5=accuracy_score(ypred5,ytest)\n",
    "as5"
   ]
  },
  {
   "cell_type": "markdown",
   "id": "8de840ec",
   "metadata": {},
   "source": [
    "### Random Forest:-"
   ]
  },
  {
   "cell_type": "code",
   "execution_count": 46,
   "id": "9cbd21be",
   "metadata": {},
   "outputs": [
    {
     "data": {
      "text/plain": [
       "0.8664"
      ]
     },
     "execution_count": 46,
     "metadata": {},
     "output_type": "execute_result"
    }
   ],
   "source": [
    "from sklearn.ensemble import RandomForestClassifier\n",
    "classifier6=RandomForestClassifier(n_estimators=100,criterion='entropy')\n",
    "classifier6.fit(xtrain,ytrain)\n",
    "ypred6=classifier6.predict(xtest)\n",
    "\n",
    "cm6=confusion_matrix(ypred6,ytest)\n",
    "as6=accuracy_score(ypred6,ytest)\n",
    "as6"
   ]
  },
  {
   "cell_type": "markdown",
   "id": "91360ea5",
   "metadata": {},
   "source": [
    "### SVM:-"
   ]
  },
  {
   "cell_type": "markdown",
   "id": "e47f3268",
   "metadata": {},
   "source": [
    "#### kerner=linear:-"
   ]
  },
  {
   "cell_type": "code",
   "execution_count": 47,
   "id": "b0a39b90",
   "metadata": {},
   "outputs": [
    {
     "data": {
      "text/plain": [
       "0.7964"
      ]
     },
     "execution_count": 47,
     "metadata": {},
     "output_type": "execute_result"
    }
   ],
   "source": [
    "from sklearn.svm import SVC\n",
    "classifier7=SVC(kernel='linear')\n",
    "classifier7.fit(xtrain,ytrain)\n",
    "ypred7=classifier7.predict(xtest)\n",
    "\n",
    "cm7=confusion_matrix(ypred7,ytest)\n",
    "as7=accuracy_score(ypred7,ytest)\n",
    "as7"
   ]
  },
  {
   "cell_type": "markdown",
   "id": "1da699c9",
   "metadata": {},
   "source": [
    "#### kernel='rbf ' :-"
   ]
  },
  {
   "cell_type": "code",
   "execution_count": 48,
   "id": "cb50b9a9",
   "metadata": {},
   "outputs": [
    {
     "data": {
      "text/plain": [
       "0.856"
      ]
     },
     "execution_count": 48,
     "metadata": {},
     "output_type": "execute_result"
    }
   ],
   "source": [
    "classifier8=SVC()\n",
    "classifier8.fit(xtrain,ytrain)\n",
    "ypred8=classifier8.predict(xtest)\n",
    "\n",
    "cm8= confusion_matrix(ypred8,ytest)\n",
    "as8=accuracy_score(ypred8,ytest)\n",
    "as8"
   ]
  },
  {
   "cell_type": "markdown",
   "id": "e174a8d4",
   "metadata": {},
   "source": [
    "#### kernel='poly':-"
   ]
  },
  {
   "cell_type": "code",
   "execution_count": 49,
   "id": "e2ed465c",
   "metadata": {},
   "outputs": [
    {
     "data": {
      "text/plain": [
       "0.8588"
      ]
     },
     "execution_count": 49,
     "metadata": {},
     "output_type": "execute_result"
    }
   ],
   "source": [
    "classifier9=SVC(kernel='poly')\n",
    "classifier9.fit(xtrain,ytrain)\n",
    "ypred9=classifier9.predict(xtest)\n",
    "\n",
    "cm9=confusion_matrix(ypred9,ytest)\n",
    "as9=accuracy_score(ypred9,ytest)\n",
    "as9"
   ]
  },
  {
   "cell_type": "markdown",
   "id": "85c43bec",
   "metadata": {},
   "source": [
    "#### kernel='sigmoid' :-"
   ]
  },
  {
   "cell_type": "code",
   "execution_count": 50,
   "id": "8bef36e6",
   "metadata": {},
   "outputs": [
    {
     "data": {
      "text/plain": [
       "0.6972"
      ]
     },
     "execution_count": 50,
     "metadata": {},
     "output_type": "execute_result"
    }
   ],
   "source": [
    "classifier10=SVC(kernel='sigmoid')\n",
    "classifier10.fit(xtrain,ytrain)\n",
    "ypred10=classifier10.predict(xtest)\n",
    "\n",
    "cm10=confusion_matrix(ypred10,ytest)\n",
    "as10=accuracy_score(ypred10,ytest)\n",
    "as10"
   ]
  },
  {
   "cell_type": "markdown",
   "id": "ca229da3",
   "metadata": {},
   "source": [
    "### XGBoost:-"
   ]
  },
  {
   "cell_type": "code",
   "execution_count": 51,
   "id": "9ad92c5d",
   "metadata": {},
   "outputs": [
    {
     "name": "stdout",
     "output_type": "stream",
     "text": [
      "[15:42:07] WARNING: C:/Users/Administrator/workspace/xgboost-win64_release_1.5.1/src/learner.cc:1115: Starting in XGBoost 1.3.0, the default evaluation metric used with the objective 'binary:logistic' was changed from 'error' to 'logloss'. Explicitly set eval_metric if you'd like to restore the old behavior.\n"
     ]
    },
    {
     "data": {
      "text/plain": [
       "0.85"
      ]
     },
     "execution_count": 51,
     "metadata": {},
     "output_type": "execute_result"
    }
   ],
   "source": [
    "from xgboost.sklearn import XGBClassifier\n",
    "classifier11 = XGBClassifier()\n",
    "classifier11.fit(xtrain,ytrain)\n",
    "ypred11 = classifier11.predict(xtest)\n",
    "\n",
    "cm11=confusion_matrix(ypred11,ytest)\n",
    "as11=accuracy_score(ypred11,ytest)\n",
    "as11"
   ]
  },
  {
   "cell_type": "markdown",
   "id": "fbbbfb89",
   "metadata": {},
   "source": [
    "### Gradient Boosting:-"
   ]
  },
  {
   "cell_type": "code",
   "execution_count": 52,
   "id": "a74780b5",
   "metadata": {},
   "outputs": [
    {
     "data": {
      "text/plain": [
       "0.8664"
      ]
     },
     "execution_count": 52,
     "metadata": {},
     "output_type": "execute_result"
    }
   ],
   "source": [
    "from sklearn.ensemble import GradientBoostingClassifier\n",
    "classifier12=GradientBoostingClassifier()\n",
    "classifier12.fit(xtrain,ytrain)\n",
    "ypred12=classifier12.predict(xtest)\n",
    "\n",
    "cm12=confusion_matrix(ypred12,ytest)\n",
    "as12=accuracy_score(ypred12,ytest)\n",
    "as12"
   ]
  },
  {
   "cell_type": "markdown",
   "id": "58d45782",
   "metadata": {},
   "source": [
    " ## ANN:-"
   ]
  },
  {
   "cell_type": "code",
   "execution_count": 41,
   "id": "bba12cde",
   "metadata": {},
   "outputs": [],
   "source": [
    "from keras.models import Sequential\n",
    "from keras.layers import Dense"
   ]
  },
  {
   "cell_type": "code",
   "execution_count": 42,
   "id": "d53742ca",
   "metadata": {},
   "outputs": [],
   "source": [
    "model1=Sequential()"
   ]
  },
  {
   "cell_type": "code",
   "execution_count": 43,
   "id": "37e2bc1f",
   "metadata": {},
   "outputs": [
    {
     "data": {
      "text/plain": [
       "(10000, 11)"
      ]
     },
     "execution_count": 43,
     "metadata": {},
     "output_type": "execute_result"
    }
   ],
   "source": [
    "xnorm.shape"
   ]
  },
  {
   "cell_type": "code",
   "execution_count": 44,
   "id": "4e363a66",
   "metadata": {},
   "outputs": [],
   "source": [
    "model1.add(Dense(input_dim=xnorm.shape[1],kernel_initializer='random_uniform',activation='relu',units=6))"
   ]
  },
  {
   "cell_type": "code",
   "execution_count": 45,
   "id": "54f75d3e",
   "metadata": {},
   "outputs": [],
   "source": [
    "model1.add(Dense(kernel_initializer='random_uniform',activation='relu',units=6))"
   ]
  },
  {
   "cell_type": "code",
   "execution_count": 46,
   "id": "7ee128e1",
   "metadata": {},
   "outputs": [],
   "source": [
    "model1.add(Dense(kernel_initializer='random_uniform',activation='sigmoid',units=1))"
   ]
  },
  {
   "cell_type": "code",
   "execution_count": 47,
   "id": "b9921986",
   "metadata": {},
   "outputs": [],
   "source": [
    "model1.compile(loss=\"binary_crossentropy\",optimizer=\"adam\",metrics=[\"accuracy\"])"
   ]
  },
  {
   "cell_type": "code",
   "execution_count": 48,
   "id": "3312e225",
   "metadata": {},
   "outputs": [
    {
     "name": "stdout",
     "output_type": "stream",
     "text": [
      "Model: \"sequential\"\n",
      "_________________________________________________________________\n",
      " Layer (type)                Output Shape              Param #   \n",
      "=================================================================\n",
      " dense (Dense)               (None, 6)                 72        \n",
      "                                                                 \n",
      " dense_1 (Dense)             (None, 6)                 42        \n",
      "                                                                 \n",
      " dense_2 (Dense)             (None, 1)                 7         \n",
      "                                                                 \n",
      "=================================================================\n",
      "Total params: 121\n",
      "Trainable params: 121\n",
      "Non-trainable params: 0\n",
      "_________________________________________________________________\n"
     ]
    }
   ],
   "source": [
    "model1.summary()"
   ]
  },
  {
   "cell_type": "code",
   "execution_count": 49,
   "id": "7dae8603",
   "metadata": {},
   "outputs": [],
   "source": [
    "#import tensorflow as tf\n",
    "#tf.keras.utils.plot_model(model1,to_file='simple.png',show_shapes=True)"
   ]
  },
  {
   "cell_type": "code",
   "execution_count": 50,
   "id": "e6bb2b1a",
   "metadata": {},
   "outputs": [
    {
     "name": "stdout",
     "output_type": "stream",
     "text": [
      "Epoch 1/50\n",
      "375/375 [==============================] - 1s 556us/step - loss: 0.5570 - accuracy: 0.7963\n",
      "Epoch 2/50\n",
      "375/375 [==============================] - 0s 562us/step - loss: 0.4862 - accuracy: 0.7963\n",
      "Epoch 3/50\n",
      "375/375 [==============================] - 0s 549us/step - loss: 0.4699 - accuracy: 0.7963\n",
      "Epoch 4/50\n",
      "375/375 [==============================] - 0s 742us/step - loss: 0.4554 - accuracy: 0.7963\n",
      "Epoch 5/50\n",
      "375/375 [==============================] - 0s 588us/step - loss: 0.4461 - accuracy: 0.7997\n",
      "Epoch 6/50\n",
      "375/375 [==============================] - 0s 556us/step - loss: 0.4394 - accuracy: 0.8095\n",
      "Epoch 7/50\n",
      "375/375 [==============================] - 0s 635us/step - loss: 0.4347 - accuracy: 0.8155\n",
      "Epoch 8/50\n",
      "375/375 [==============================] - 0s 567us/step - loss: 0.4317 - accuracy: 0.8183\n",
      "Epoch 9/50\n",
      "375/375 [==============================] - 0s 571us/step - loss: 0.4301 - accuracy: 0.8183\n",
      "Epoch 10/50\n",
      "375/375 [==============================] - 0s 603us/step - loss: 0.4287 - accuracy: 0.8195\n",
      "Epoch 11/50\n",
      "375/375 [==============================] - 0s 611us/step - loss: 0.4276 - accuracy: 0.8192\n",
      "Epoch 12/50\n",
      "375/375 [==============================] - 0s 548us/step - loss: 0.4266 - accuracy: 0.8201\n",
      "Epoch 13/50\n",
      "375/375 [==============================] - 0s 587us/step - loss: 0.4257 - accuracy: 0.8197\n",
      "Epoch 14/50\n",
      "375/375 [==============================] - 0s 575us/step - loss: 0.4232 - accuracy: 0.8228\n",
      "Epoch 15/50\n",
      "375/375 [==============================] - 0s 613us/step - loss: 0.4206 - accuracy: 0.8239\n",
      "Epoch 16/50\n",
      "375/375 [==============================] - 0s 606us/step - loss: 0.4184 - accuracy: 0.8243\n",
      "Epoch 17/50\n",
      "375/375 [==============================] - 0s 591us/step - loss: 0.4175 - accuracy: 0.8283\n",
      "Epoch 18/50\n",
      "375/375 [==============================] - 0s 635us/step - loss: 0.4156 - accuracy: 0.8249\n",
      "Epoch 19/50\n",
      "375/375 [==============================] - 0s 552us/step - loss: 0.4143 - accuracy: 0.8288\n",
      "Epoch 20/50\n",
      "375/375 [==============================] - 0s 682us/step - loss: 0.4137 - accuracy: 0.8292\n",
      "Epoch 21/50\n",
      "375/375 [==============================] - 0s 635us/step - loss: 0.4126 - accuracy: 0.82800s - loss: 0.4163 - accuracy: \n",
      "Epoch 22/50\n",
      "375/375 [==============================] - 0s 650us/step - loss: 0.4119 - accuracy: 0.8287\n",
      "Epoch 23/50\n",
      "375/375 [==============================] - 0s 582us/step - loss: 0.4112 - accuracy: 0.8320\n",
      "Epoch 24/50\n",
      "375/375 [==============================] - 0s 604us/step - loss: 0.4105 - accuracy: 0.8305\n",
      "Epoch 25/50\n",
      "375/375 [==============================] - 0s 577us/step - loss: 0.4096 - accuracy: 0.8317\n",
      "Epoch 26/50\n",
      "375/375 [==============================] - 0s 590us/step - loss: 0.4088 - accuracy: 0.8320\n",
      "Epoch 27/50\n",
      "375/375 [==============================] - 0s 534us/step - loss: 0.4087 - accuracy: 0.8337\n",
      "Epoch 28/50\n",
      "375/375 [==============================] - 0s 636us/step - loss: 0.4082 - accuracy: 0.8321\n",
      "Epoch 29/50\n",
      "375/375 [==============================] - 0s 621us/step - loss: 0.4074 - accuracy: 0.8335\n",
      "Epoch 30/50\n",
      "375/375 [==============================] - 0s 636us/step - loss: 0.4072 - accuracy: 0.8324\n",
      "Epoch 31/50\n",
      "375/375 [==============================] - 0s 1ms/step - loss: 0.4073 - accuracy: 0.8315\n",
      "Epoch 32/50\n",
      "375/375 [==============================] - 0s 812us/step - loss: 0.4065 - accuracy: 0.8332\n",
      "Epoch 33/50\n",
      "375/375 [==============================] - 0s 818us/step - loss: 0.4060 - accuracy: 0.8336\n",
      "Epoch 34/50\n",
      "375/375 [==============================] - 0s 664us/step - loss: 0.4057 - accuracy: 0.8316\n",
      "Epoch 35/50\n",
      "375/375 [==============================] - 0s 593us/step - loss: 0.4047 - accuracy: 0.8329\n",
      "Epoch 36/50\n",
      "375/375 [==============================] - 0s 576us/step - loss: 0.4047 - accuracy: 0.8321\n",
      "Epoch 37/50\n",
      "375/375 [==============================] - 0s 648us/step - loss: 0.4042 - accuracy: 0.8316\n",
      "Epoch 38/50\n",
      "375/375 [==============================] - 0s 591us/step - loss: 0.4044 - accuracy: 0.8345\n",
      "Epoch 39/50\n",
      "375/375 [==============================] - 0s 565us/step - loss: 0.4031 - accuracy: 0.8324\n",
      "Epoch 40/50\n",
      "375/375 [==============================] - 0s 570us/step - loss: 0.4042 - accuracy: 0.8321\n",
      "Epoch 41/50\n",
      "375/375 [==============================] - 0s 620us/step - loss: 0.4035 - accuracy: 0.8339\n",
      "Epoch 42/50\n",
      "375/375 [==============================] - 0s 599us/step - loss: 0.4040 - accuracy: 0.8320\n",
      "Epoch 43/50\n",
      "375/375 [==============================] - 0s 580us/step - loss: 0.4024 - accuracy: 0.8337\n",
      "Epoch 44/50\n",
      "375/375 [==============================] - 0s 608us/step - loss: 0.4030 - accuracy: 0.8315\n",
      "Epoch 45/50\n",
      "375/375 [==============================] - 0s 647us/step - loss: 0.4025 - accuracy: 0.8336\n",
      "Epoch 46/50\n",
      "375/375 [==============================] - 0s 598us/step - loss: 0.4020 - accuracy: 0.8327\n",
      "Epoch 47/50\n",
      "375/375 [==============================] - 0s 573us/step - loss: 0.4019 - accuracy: 0.8331\n",
      "Epoch 48/50\n",
      "375/375 [==============================] - 0s 575us/step - loss: 0.4020 - accuracy: 0.8351\n",
      "Epoch 49/50\n",
      "375/375 [==============================] - 0s 630us/step - loss: 0.4017 - accuracy: 0.8336\n",
      "Epoch 50/50\n",
      "375/375 [==============================] - 0s 612us/step - loss: 0.4020 - accuracy: 0.8332\n"
     ]
    }
   ],
   "source": [
    "model2=model1.fit(xtrain,ytrain,epochs=50,batch_size=20)"
   ]
  },
  {
   "cell_type": "code",
   "execution_count": 51,
   "id": "0de0e2fb",
   "metadata": {},
   "outputs": [],
   "source": [
    "predy=model1.predict(xtest)\n",
    "predy=predy>0.5"
   ]
  },
  {
   "cell_type": "code",
   "execution_count": 52,
   "id": "ef96a2a9",
   "metadata": {},
   "outputs": [
    {
     "data": {
      "text/plain": [
       "array([[1932,  327],\n",
       "       [  59,  182]], dtype=int64)"
      ]
     },
     "execution_count": 52,
     "metadata": {},
     "output_type": "execute_result"
    }
   ],
   "source": [
    "from sklearn.metrics import confusion_matrix,accuracy_score\n",
    "confuse1=confusion_matrix(predy,ytest)\n",
    "confuse1"
   ]
  },
  {
   "cell_type": "code",
   "execution_count": 53,
   "id": "d5b14733",
   "metadata": {},
   "outputs": [
    {
     "data": {
      "text/plain": [
       "0.8456"
      ]
     },
     "execution_count": 53,
     "metadata": {},
     "output_type": "execute_result"
    }
   ],
   "source": [
    "accuracy_score(predy,ytest)"
   ]
  },
  {
   "cell_type": "code",
   "execution_count": 54,
   "id": "3fca2e88",
   "metadata": {},
   "outputs": [
    {
     "data": {
      "text/html": [
       "<div>\n",
       "<style scoped>\n",
       "    .dataframe tbody tr th:only-of-type {\n",
       "        vertical-align: middle;\n",
       "    }\n",
       "\n",
       "    .dataframe tbody tr th {\n",
       "        vertical-align: top;\n",
       "    }\n",
       "\n",
       "    .dataframe thead th {\n",
       "        text-align: right;\n",
       "    }\n",
       "</style>\n",
       "<table border=\"1\" class=\"dataframe\">\n",
       "  <thead>\n",
       "    <tr style=\"text-align: right;\">\n",
       "      <th></th>\n",
       "      <th>CreditScore</th>\n",
       "      <th>Age</th>\n",
       "      <th>Tenure</th>\n",
       "      <th>Balance</th>\n",
       "      <th>NumOfProducts</th>\n",
       "      <th>HasCrCard</th>\n",
       "      <th>IsActiveMember</th>\n",
       "      <th>EstimatedSalary</th>\n",
       "      <th>Geography_Germany</th>\n",
       "      <th>Geography_Spain</th>\n",
       "      <th>Gender_Male</th>\n",
       "    </tr>\n",
       "  </thead>\n",
       "  <tbody>\n",
       "    <tr>\n",
       "      <th>0</th>\n",
       "      <td>619.0</td>\n",
       "      <td>42.0</td>\n",
       "      <td>2</td>\n",
       "      <td>0.0</td>\n",
       "      <td>1</td>\n",
       "      <td>1</td>\n",
       "      <td>1</td>\n",
       "      <td>101348.88</td>\n",
       "      <td>0</td>\n",
       "      <td>0</td>\n",
       "      <td>0</td>\n",
       "    </tr>\n",
       "  </tbody>\n",
       "</table>\n",
       "</div>"
      ],
      "text/plain": [
       "   CreditScore   Age  Tenure  Balance  NumOfProducts  HasCrCard  \\\n",
       "0        619.0  42.0       2      0.0              1          1   \n",
       "\n",
       "   IsActiveMember  EstimatedSalary  Geography_Germany  Geography_Spain  \\\n",
       "0               1        101348.88                  0                0   \n",
       "\n",
       "   Gender_Male  \n",
       "0            0  "
      ]
     },
     "execution_count": 54,
     "metadata": {},
     "output_type": "execute_result"
    }
   ],
   "source": [
    "x.head(1)"
   ]
  },
  {
   "cell_type": "code",
   "execution_count": 56,
   "id": "733058e9",
   "metadata": {},
   "outputs": [],
   "source": [
    "pred1=np.array([[619.0,42.0,2,0.0,1,1,1,101348.88,0,0,0]])\n",
    "pred1=scale.transform(pred1)"
   ]
  },
  {
   "cell_type": "code",
   "execution_count": 57,
   "id": "946ff679",
   "metadata": {},
   "outputs": [
    {
     "data": {
      "text/plain": [
       "0"
      ]
     },
     "execution_count": 57,
     "metadata": {},
     "output_type": "execute_result"
    }
   ],
   "source": [
    "name1=model1.predict(pred1)\n",
    "int(name1>0.5)"
   ]
  },
  {
   "cell_type": "code",
   "execution_count": null,
   "id": "e236db89",
   "metadata": {},
   "outputs": [],
   "source": []
  }
 ],
 "metadata": {
  "kernelspec": {
   "display_name": "Python 3",
   "language": "python",
   "name": "python3"
  },
  "language_info": {
   "codemirror_mode": {
    "name": "ipython",
    "version": 3
   },
   "file_extension": ".py",
   "mimetype": "text/x-python",
   "name": "python",
   "nbconvert_exporter": "python",
   "pygments_lexer": "ipython3",
   "version": "3.8.8"
  }
 },
 "nbformat": 4,
 "nbformat_minor": 5
}
